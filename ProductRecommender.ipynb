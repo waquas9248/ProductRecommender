{
 "cells": [
  {
   "cell_type": "markdown",
   "id": "e4e907f4-c923-44b3-a387-82ccddefabd6",
   "metadata": {
    "id": "e4e907f4-c923-44b3-a387-82ccddefabd6"
   },
   "source": [
    "# 1. Understanding the problem"
   ]
  },
  {
   "cell_type": "markdown",
   "id": "e0579f7a-35a2-4153-9cd8-0c88aff8ca31",
   "metadata": {
    "id": "e0579f7a-35a2-4153-9cd8-0c88aff8ca31"
   },
   "source": [
    "## 1.1 Problem description"
   ]
  },
  {
   "cell_type": "markdown",
   "id": "4362fa5d-6905-402a-93c5-9bd3f9589627",
   "metadata": {
    "id": "4362fa5d-6905-402a-93c5-9bd3f9589627"
   },
   "source": [
    "- The problem statement is based on a dataset with collection of financial transactions pertaining products sold through Amazon."
   ]
  },
  {
   "cell_type": "markdown",
   "id": "81543057-9ad8-4e0b-99a3-756dfd0dfc2b",
   "metadata": {
    "id": "81543057-9ad8-4e0b-99a3-756dfd0dfc2b"
   },
   "source": [
    "## 1.2 Objective"
   ]
  },
  {
   "cell_type": "markdown",
   "id": "0d9a807f-516e-422b-b92e-c95f783b977c",
   "metadata": {
    "id": "0d9a807f-516e-422b-b92e-c95f783b977c"
   },
   "source": [
    "- The goal is to build a recommendation system which suggests items based on purchases made, modeling around the dataset."
   ]
  },
  {
   "cell_type": "markdown",
   "id": "f8ca4941-a044-41a1-b0df-1dfdefc5293b",
   "metadata": {
    "id": "f8ca4941-a044-41a1-b0df-1dfdefc5293b"
   },
   "source": [
    "# 2. Working on the dataset"
   ]
  },
  {
   "cell_type": "markdown",
   "id": "d6e30f07-8e27-4c9e-911f-8a77b18572c7",
   "metadata": {
    "id": "d6e30f07-8e27-4c9e-911f-8a77b18572c7"
   },
   "source": [
    "## 2.1 Analyzing the feature-set"
   ]
  },
  {
   "cell_type": "code",
   "execution_count": 1,
   "id": "93e2e5b7-1810-4425-a489-512d4e1e1d84",
   "metadata": {
    "executionInfo": {
     "elapsed": 8216,
     "status": "ok",
     "timestamp": 1695093164566,
     "user": {
      "displayName": "",
      "userId": ""
     },
     "user_tz": 300
    },
    "id": "93e2e5b7-1810-4425-a489-512d4e1e1d84"
   },
   "outputs": [],
   "source": [
    "import pandas as pd\n",
    "df = pd.read_json('gs://sap_assessment/data.json')"
   ]
  },
  {
   "cell_type": "code",
   "execution_count": 2,
   "id": "834d8a9e-9fcc-4d56-b2b3-15c582acb900",
   "metadata": {
    "colab": {
     "base_uri": "https://localhost:8080/",
     "height": 747
    },
    "executionInfo": {
     "elapsed": 12,
     "status": "ok",
     "timestamp": 1695093164569,
     "user": {
      "displayName": "",
      "userId": ""
     },
     "user_tz": 300
    },
    "id": "834d8a9e-9fcc-4d56-b2b3-15c582acb900",
    "outputId": "4ed44d41-2614-4fce-cdb4-bc0122ca7bc3"
   },
   "outputs": [
    {
     "name": "stdout",
     "output_type": "stream",
     "text": [
      "Dimensions of the dataframe (83294, 11)\n"
     ]
    },
    {
     "data": {
      "text/html": [
       "\n",
       "  <div id=\"df-4a8e4276-4a0f-4355-9434-1241f6dad9b3\" class=\"colab-df-container\">\n",
       "    <div>\n",
       "<style scoped>\n",
       "    .dataframe tbody tr th:only-of-type {\n",
       "        vertical-align: middle;\n",
       "    }\n",
       "\n",
       "    .dataframe tbody tr th {\n",
       "        vertical-align: top;\n",
       "    }\n",
       "\n",
       "    .dataframe thead th {\n",
       "        text-align: right;\n",
       "    }\n",
       "</style>\n",
       "<table border=\"1\" class=\"dataframe\">\n",
       "  <thead>\n",
       "    <tr style=\"text-align: right;\">\n",
       "      <th></th>\n",
       "      <th>category</th>\n",
       "      <th>description</th>\n",
       "      <th>title</th>\n",
       "      <th>also_buy</th>\n",
       "      <th>brand</th>\n",
       "      <th>rank</th>\n",
       "      <th>main_cat</th>\n",
       "      <th>date</th>\n",
       "      <th>price</th>\n",
       "      <th>asin</th>\n",
       "      <th>imageURL</th>\n",
       "    </tr>\n",
       "  </thead>\n",
       "  <tbody>\n",
       "    <tr>\n",
       "      <th>0</th>\n",
       "      <td>[Grocery &amp; Gourmet Food, Cooking &amp; Baking, Sug...</td>\n",
       "      <td>[Shipped from UK, please allow 10 to 21 busine...</td>\n",
       "      <td>Trim Healthy Mama Xylitol</td>\n",
       "      <td>[B01898YHXK, B01BCM6LAC, B00Q4OL47O, B00Q4OL5Q...</td>\n",
       "      <td></td>\n",
       "      <td>315,867 in Grocery &amp; Gourmet Food (</td>\n",
       "      <td>Grocery</td>\n",
       "      <td></td>\n",
       "      <td></td>\n",
       "      <td>0853347867</td>\n",
       "      <td>[https://images-na.ssl-images-amazon.com/image...</td>\n",
       "    </tr>\n",
       "    <tr>\n",
       "      <th>1</th>\n",
       "      <td>[Grocery &amp; Gourmet Food, Beverages, Coffee, Te...</td>\n",
       "      <td>[Lipton Yellow Label Tea use only the finest t...</td>\n",
       "      <td>Lipton Yellow Label Tea (loose tea) - 450g</td>\n",
       "      <td>[B00886E4K0, B00CREXSHY, B001QTRGAQ, B002EYZM4...</td>\n",
       "      <td>Lipton</td>\n",
       "      <td>30,937 in Grocery &amp; Gourmet Food (</td>\n",
       "      <td>Grocery</td>\n",
       "      <td></td>\n",
       "      <td>$12.46</td>\n",
       "      <td>4639725043</td>\n",
       "      <td>[https://images-na.ssl-images-amazon.com/image...</td>\n",
       "    </tr>\n",
       "    <tr>\n",
       "      <th>2</th>\n",
       "      <td>[Grocery &amp; Gourmet Food, Beverages, Coffee, Te...</td>\n",
       "      <td>[Lipton Yellow Label Teabags uses a new way to...</td>\n",
       "      <td>Lipton Yellow Label Finest Blend Tea Bags 100 ...</td>\n",
       "      <td>[B000JSQDK4, B007ZI1SKG, 4639725043, B00KPFHOP...</td>\n",
       "      <td>Lipton</td>\n",
       "      <td>15,487 in Grocery &amp; Gourmet Food (</td>\n",
       "      <td>Grocery</td>\n",
       "      <td></td>\n",
       "      <td>$12.98</td>\n",
       "      <td>4639725183</td>\n",
       "      <td>[https://images-na.ssl-images-amazon.com/image...</td>\n",
       "    </tr>\n",
       "    <tr>\n",
       "      <th>3</th>\n",
       "      <td>[Grocery &amp; Gourmet Food, Canned, Jarred &amp; Pack...</td>\n",
       "      <td>[Dishes cooked with nutrela are very tasty and...</td>\n",
       "      <td>Nutrela High Protein Soya Chunks 200g (Pack of 6)</td>\n",
       "      <td>[B002FBD900, B00015YTS8, B00B3ARYDC, B002DMUIE...</td>\n",
       "      <td>Nutrela</td>\n",
       "      <td>195,125 in Grocery &amp; Gourmet Food (</td>\n",
       "      <td>Grocery</td>\n",
       "      <td></td>\n",
       "      <td>$24.99</td>\n",
       "      <td>5236363640</td>\n",
       "      <td>[]</td>\n",
       "    </tr>\n",
       "    <tr>\n",
       "      <th>4</th>\n",
       "      <td>[Grocery &amp; Gourmet Food, Beverages, Coffee, Te...</td>\n",
       "      <td>[20 Sachets, Empty contents into cup\\nPour 8oz...</td>\n",
       "      <td>Organo Gold Cafe Supreme 100% Certified Ganode...</td>\n",
       "      <td>[B00F3XJX6G, B003CY45VG, B003CGJAIM, B00E1C3FJ...</td>\n",
       "      <td>Organo Gold</td>\n",
       "      <td>89,943 in Grocery &amp; Gourmet Food (</td>\n",
       "      <td>Grocery</td>\n",
       "      <td></td>\n",
       "      <td>$29.90</td>\n",
       "      <td>5463213682</td>\n",
       "      <td>[https://images-na.ssl-images-amazon.com/image...</td>\n",
       "    </tr>\n",
       "  </tbody>\n",
       "</table>\n",
       "</div>\n",
       "    <div class=\"colab-df-buttons\">\n",
       "      \n",
       "  <div class=\"colab-df-container\">\n",
       "    <button class=\"colab-df-convert\" onclick=\"convertToInteractive('df-4a8e4276-4a0f-4355-9434-1241f6dad9b3')\"\n",
       "            title=\"Convert this dataframe to an interactive table.\"\n",
       "            style=\"display:none;\">\n",
       "      \n",
       "  <svg xmlns=\"http://www.w3.org/2000/svg\" height=\"24px\" viewBox=\"0 -960 960 960\">\n",
       "    <path d=\"M120-120v-720h720v720H120Zm60-500h600v-160H180v160Zm220 220h160v-160H400v160Zm0 220h160v-160H400v160ZM180-400h160v-160H180v160Zm440 0h160v-160H620v160ZM180-180h160v-160H180v160Zm440 0h160v-160H620v160Z\"/>\n",
       "  </svg>\n",
       "    </button>\n",
       "    \n",
       "  <style>\n",
       "    .colab-df-container {\n",
       "      display:flex;\n",
       "      gap: 12px;\n",
       "    }\n",
       "\n",
       "    .colab-df-convert {\n",
       "      background-color: #E8F0FE;\n",
       "      border: none;\n",
       "      border-radius: 50%;\n",
       "      cursor: pointer;\n",
       "      display: none;\n",
       "      fill: #1967D2;\n",
       "      height: 32px;\n",
       "      padding: 0 0 0 0;\n",
       "      width: 32px;\n",
       "    }\n",
       "\n",
       "    .colab-df-convert:hover {\n",
       "      background-color: #E2EBFA;\n",
       "      box-shadow: 0px 1px 2px rgba(60, 64, 67, 0.3), 0px 1px 3px 1px rgba(60, 64, 67, 0.15);\n",
       "      fill: #174EA6;\n",
       "    }\n",
       "\n",
       "    .colab-df-buttons div {\n",
       "      margin-bottom: 4px;\n",
       "    }\n",
       "\n",
       "    [theme=dark] .colab-df-convert {\n",
       "      background-color: #3B4455;\n",
       "      fill: #D2E3FC;\n",
       "    }\n",
       "\n",
       "    [theme=dark] .colab-df-convert:hover {\n",
       "      background-color: #434B5C;\n",
       "      box-shadow: 0px 1px 3px 1px rgba(0, 0, 0, 0.15);\n",
       "      filter: drop-shadow(0px 1px 2px rgba(0, 0, 0, 0.3));\n",
       "      fill: #FFFFFF;\n",
       "    }\n",
       "  </style>\n",
       "\n",
       "    <script>\n",
       "      const buttonEl =\n",
       "        document.querySelector('#df-4a8e4276-4a0f-4355-9434-1241f6dad9b3 button.colab-df-convert');\n",
       "      buttonEl.style.display =\n",
       "        google.colab.kernel.accessAllowed ? 'block' : 'none';\n",
       "\n",
       "      async function convertToInteractive(key) {\n",
       "        const element = document.querySelector('#df-4a8e4276-4a0f-4355-9434-1241f6dad9b3');\n",
       "        const dataTable =\n",
       "          await google.colab.kernel.invokeFunction('convertToInteractive',\n",
       "                                                    [key], {});\n",
       "        if (!dataTable) return;\n",
       "\n",
       "        const docLinkHtml = 'Like what you see? Visit the ' +\n",
       "          '<a target=\"_blank\" href=https://colab.research.google.com/notebooks/data_table.ipynb>data table notebook</a>'\n",
       "          + ' to learn more about interactive tables.';\n",
       "        element.innerHTML = '';\n",
       "        dataTable['output_type'] = 'display_data';\n",
       "        await google.colab.output.renderOutput(dataTable, element);\n",
       "        const docLink = document.createElement('div');\n",
       "        docLink.innerHTML = docLinkHtml;\n",
       "        element.appendChild(docLink);\n",
       "      }\n",
       "    </script>\n",
       "  </div>\n",
       "  \n",
       "    </div>\n",
       "  </div>\n",
       "  "
      ],
      "text/plain": [
       "                                            category  \\\n",
       "0  [Grocery & Gourmet Food, Cooking & Baking, Sug...   \n",
       "1  [Grocery & Gourmet Food, Beverages, Coffee, Te...   \n",
       "2  [Grocery & Gourmet Food, Beverages, Coffee, Te...   \n",
       "3  [Grocery & Gourmet Food, Canned, Jarred & Pack...   \n",
       "4  [Grocery & Gourmet Food, Beverages, Coffee, Te...   \n",
       "\n",
       "                                         description  \\\n",
       "0  [Shipped from UK, please allow 10 to 21 busine...   \n",
       "1  [Lipton Yellow Label Tea use only the finest t...   \n",
       "2  [Lipton Yellow Label Teabags uses a new way to...   \n",
       "3  [Dishes cooked with nutrela are very tasty and...   \n",
       "4  [20 Sachets, Empty contents into cup\\nPour 8oz...   \n",
       "\n",
       "                                               title  \\\n",
       "0                          Trim Healthy Mama Xylitol   \n",
       "1         Lipton Yellow Label Tea (loose tea) - 450g   \n",
       "2  Lipton Yellow Label Finest Blend Tea Bags 100 ...   \n",
       "3  Nutrela High Protein Soya Chunks 200g (Pack of 6)   \n",
       "4  Organo Gold Cafe Supreme 100% Certified Ganode...   \n",
       "\n",
       "                                            also_buy        brand  \\\n",
       "0  [B01898YHXK, B01BCM6LAC, B00Q4OL47O, B00Q4OL5Q...                \n",
       "1  [B00886E4K0, B00CREXSHY, B001QTRGAQ, B002EYZM4...       Lipton   \n",
       "2  [B000JSQDK4, B007ZI1SKG, 4639725043, B00KPFHOP...       Lipton   \n",
       "3  [B002FBD900, B00015YTS8, B00B3ARYDC, B002DMUIE...      Nutrela   \n",
       "4  [B00F3XJX6G, B003CY45VG, B003CGJAIM, B00E1C3FJ...  Organo Gold   \n",
       "\n",
       "                                  rank main_cat date   price        asin  \\\n",
       "0  315,867 in Grocery & Gourmet Food (  Grocery               0853347867   \n",
       "1   30,937 in Grocery & Gourmet Food (  Grocery       $12.46  4639725043   \n",
       "2   15,487 in Grocery & Gourmet Food (  Grocery       $12.98  4639725183   \n",
       "3  195,125 in Grocery & Gourmet Food (  Grocery       $24.99  5236363640   \n",
       "4   89,943 in Grocery & Gourmet Food (  Grocery       $29.90  5463213682   \n",
       "\n",
       "                                            imageURL  \n",
       "0  [https://images-na.ssl-images-amazon.com/image...  \n",
       "1  [https://images-na.ssl-images-amazon.com/image...  \n",
       "2  [https://images-na.ssl-images-amazon.com/image...  \n",
       "3                                                 []  \n",
       "4  [https://images-na.ssl-images-amazon.com/image...  "
      ]
     },
     "execution_count": 2,
     "metadata": {},
     "output_type": "execute_result"
    }
   ],
   "source": [
    "print(\"Dimensions of the dataframe\",df.shape)\n",
    "df.head(5)"
   ]
  },
  {
   "cell_type": "markdown",
   "id": "c6b2f6d2-9f87-4cb0-985e-048814296cd1",
   "metadata": {
    "id": "c6b2f6d2-9f87-4cb0-985e-048814296cd1"
   },
   "source": [
    "- My first instinct on looking at the first few values of the dataframe was to find thhe identifying feature\n",
    "- I looked at \"asin\" as it seemed to be a numeric identifier,i was wondering if it had something to do with a naming convention so looking it up on the web, I found it to be amazon's identification number for its products, which is a 10-character alphanumeric value"
   ]
  },
  {
   "cell_type": "code",
   "execution_count": 3,
   "id": "af481a35-8225-4383-a56f-044f8191d8b1",
   "metadata": {
    "colab": {
     "base_uri": "https://localhost:8080/"
    },
    "executionInfo": {
     "elapsed": 229,
     "status": "ok",
     "timestamp": 1695093168852,
     "user": {
      "displayName": "",
      "userId": ""
     },
     "user_tz": 300
    },
    "id": "af481a35-8225-4383-a56f-044f8191d8b1",
    "outputId": "5c190997-6714-406b-a423-d99b9b4846f2"
   },
   "outputs": [
    {
     "name": "stdout",
     "output_type": "stream",
     "text": [
      "NA values 0\n",
      "Duplicates : 1024\n"
     ]
    }
   ],
   "source": [
    "#Checking for NA values and if it contains duplicates\n",
    "print(\"NA values\", df[\"asin\"].isna().sum())\n",
    "print(\"Duplicates :\", df[\"asin\"].count() - df[\"asin\"].nunique())"
   ]
  },
  {
   "cell_type": "code",
   "execution_count": 4,
   "id": "d4497eda-a807-4577-8cb0-52f1f77bd98e",
   "metadata": {
    "colab": {
     "base_uri": "https://localhost:8080/"
    },
    "executionInfo": {
     "elapsed": 662,
     "status": "ok",
     "timestamp": 1695093170498,
     "user": {
      "displayName": "",
      "userId": ""
     },
     "user_tz": 300
    },
    "id": "d4497eda-a807-4577-8cb0-52f1f77bd98e",
    "outputId": "55a0592f-7ab3-47b1-84b2-6a748da80ea9"
   },
   "outputs": [
    {
     "data": {
      "text/plain": [
       "category       0\n",
       "description    0\n",
       "title          0\n",
       "also_buy       0\n",
       "brand          0\n",
       "rank           0\n",
       "main_cat       0\n",
       "date           0\n",
       "price          0\n",
       "asin           0\n",
       "imageURL       0\n",
       "dtype: int64"
      ]
     },
     "execution_count": 4,
     "metadata": {},
     "output_type": "execute_result"
    }
   ],
   "source": [
    "#Checking for NA values for all features\n",
    "df.isna().sum()"
   ]
  },
  {
   "cell_type": "code",
   "execution_count": 5,
   "id": "f77e0a03-aef5-4d4f-b12a-728048f1b187",
   "metadata": {
    "colab": {
     "base_uri": "https://localhost:8080/"
    },
    "executionInfo": {
     "elapsed": 6,
     "status": "ok",
     "timestamp": 1695093173008,
     "user": {
      "displayName": "",
      "userId": ""
     },
     "user_tz": 300
    },
    "id": "f77e0a03-aef5-4d4f-b12a-728048f1b187",
    "outputId": "4215b819-9f9b-40aa-a0ef-e074542a359a"
   },
   "outputs": [
    {
     "data": {
      "text/plain": [
       "category       83294\n",
       "description    83294\n",
       "title          83294\n",
       "also_buy       83294\n",
       "brand          83294\n",
       "rank           83294\n",
       "main_cat       83294\n",
       "date           83294\n",
       "price          83294\n",
       "asin           83294\n",
       "imageURL       83294\n",
       "dtype: int64"
      ]
     },
     "execution_count": 5,
     "metadata": {},
     "output_type": "execute_result"
    }
   ],
   "source": [
    "df.count()"
   ]
  },
  {
   "cell_type": "markdown",
   "id": "fa9dc140-dc73-4a81-af7b-3378be2ee69f",
   "metadata": {
    "id": "fa9dc140-dc73-4a81-af7b-3378be2ee69f"
   },
   "source": [
    "- I then explored the categories, looking for distribution of values"
   ]
  },
  {
   "cell_type": "code",
   "execution_count": 6,
   "id": "f99499c5-cd6d-489f-adae-ba0771499911",
   "metadata": {
    "colab": {
     "base_uri": "https://localhost:8080/"
    },
    "executionInfo": {
     "elapsed": 178,
     "status": "ok",
     "timestamp": 1695093176764,
     "user": {
      "displayName": "",
      "userId": ""
     },
     "user_tz": 300
    },
    "id": "f99499c5-cd6d-489f-adae-ba0771499911",
    "outputId": "fd98463d-596e-47d4-d1e5-3d900e87aa97"
   },
   "outputs": [
    {
     "name": "stdout",
     "output_type": "stream",
     "text": [
      "Unique values\n",
      "Title 81453\n",
      "Brand 15325\n",
      "Main Category 27\n"
     ]
    }
   ],
   "source": [
    "print(\"Unique values\")\n",
    "print(\"Title\", df[\"title\"].nunique())\n",
    "print(\"Brand\", df[\"brand\"].nunique())\n",
    "print(\"Main Category\", df[\"main_cat\"].nunique())"
   ]
  },
  {
   "cell_type": "code",
   "execution_count": 7,
   "id": "28ccf3ef-22c6-4b55-bb96-4beec8a4f6b1",
   "metadata": {
    "colab": {
     "base_uri": "https://localhost:8080/",
     "height": 455
    },
    "executionInfo": {
     "elapsed": 549,
     "status": "ok",
     "timestamp": 1695093178253,
     "user": {
      "displayName": "",
      "userId": ""
     },
     "user_tz": 300
    },
    "id": "28ccf3ef-22c6-4b55-bb96-4beec8a4f6b1",
    "outputId": "06e10b67-7f1c-4ddf-cbc2-3305e7248bbd"
   },
   "outputs": [
    {
     "data": {
      "text/html": [
       "\n",
       "  <div id=\"df-3b617bdb-dc36-4bff-9c9e-8cc1783ee5f6\" class=\"colab-df-container\">\n",
       "    <div>\n",
       "<style scoped>\n",
       "    .dataframe tbody tr th:only-of-type {\n",
       "        vertical-align: middle;\n",
       "    }\n",
       "\n",
       "    .dataframe tbody tr th {\n",
       "        vertical-align: top;\n",
       "    }\n",
       "\n",
       "    .dataframe thead th {\n",
       "        text-align: right;\n",
       "    }\n",
       "</style>\n",
       "<table border=\"1\" class=\"dataframe\">\n",
       "  <thead>\n",
       "    <tr style=\"text-align: right;\">\n",
       "      <th></th>\n",
       "      <th></th>\n",
       "      <th>count</th>\n",
       "    </tr>\n",
       "    <tr>\n",
       "      <th>brand</th>\n",
       "      <th>brand</th>\n",
       "      <th></th>\n",
       "    </tr>\n",
       "  </thead>\n",
       "  <tbody>\n",
       "    <tr>\n",
       "      <th></th>\n",
       "      <th></th>\n",
       "      <td>827</td>\n",
       "    </tr>\n",
       "    <tr>\n",
       "      <th>Frontier</th>\n",
       "      <th>Frontier</th>\n",
       "      <td>402</td>\n",
       "    </tr>\n",
       "    <tr>\n",
       "      <th>Bob's Red Mill</th>\n",
       "      <th>Bob's Red Mill</th>\n",
       "      <td>399</td>\n",
       "    </tr>\n",
       "    <tr>\n",
       "      <th>Trader Joe's</th>\n",
       "      <th>Trader Joe's</th>\n",
       "      <td>395</td>\n",
       "    </tr>\n",
       "    <tr>\n",
       "      <th>Starbucks</th>\n",
       "      <th>Starbucks</th>\n",
       "      <td>383</td>\n",
       "    </tr>\n",
       "    <tr>\n",
       "      <th>...</th>\n",
       "      <th>...</th>\n",
       "      <td>...</td>\n",
       "    </tr>\n",
       "    <tr>\n",
       "      <th>Jones Brothers Coffee</th>\n",
       "      <th>Jones Brothers Coffee</th>\n",
       "      <td>1</td>\n",
       "    </tr>\n",
       "    <tr>\n",
       "      <th>Jonga Vision</th>\n",
       "      <th>Jonga Vision</th>\n",
       "      <td>1</td>\n",
       "    </tr>\n",
       "    <tr>\n",
       "      <th>Jordan</th>\n",
       "      <th>Jordan</th>\n",
       "      <td>1</td>\n",
       "    </tr>\n",
       "    <tr>\n",
       "      <th>Jordan Almonds</th>\n",
       "      <th>Jordan Almonds</th>\n",
       "      <td>1</td>\n",
       "    </tr>\n",
       "    <tr>\n",
       "      <th>yuni117</th>\n",
       "      <th>yuni117</th>\n",
       "      <td>1</td>\n",
       "    </tr>\n",
       "  </tbody>\n",
       "</table>\n",
       "<p>15325 rows × 1 columns</p>\n",
       "</div>\n",
       "    <div class=\"colab-df-buttons\">\n",
       "      \n",
       "  <div class=\"colab-df-container\">\n",
       "    <button class=\"colab-df-convert\" onclick=\"convertToInteractive('df-3b617bdb-dc36-4bff-9c9e-8cc1783ee5f6')\"\n",
       "            title=\"Convert this dataframe to an interactive table.\"\n",
       "            style=\"display:none;\">\n",
       "      \n",
       "  <svg xmlns=\"http://www.w3.org/2000/svg\" height=\"24px\" viewBox=\"0 -960 960 960\">\n",
       "    <path d=\"M120-120v-720h720v720H120Zm60-500h600v-160H180v160Zm220 220h160v-160H400v160Zm0 220h160v-160H400v160ZM180-400h160v-160H180v160Zm440 0h160v-160H620v160ZM180-180h160v-160H180v160Zm440 0h160v-160H620v160Z\"/>\n",
       "  </svg>\n",
       "    </button>\n",
       "    \n",
       "  <style>\n",
       "    .colab-df-container {\n",
       "      display:flex;\n",
       "      gap: 12px;\n",
       "    }\n",
       "\n",
       "    .colab-df-convert {\n",
       "      background-color: #E8F0FE;\n",
       "      border: none;\n",
       "      border-radius: 50%;\n",
       "      cursor: pointer;\n",
       "      display: none;\n",
       "      fill: #1967D2;\n",
       "      height: 32px;\n",
       "      padding: 0 0 0 0;\n",
       "      width: 32px;\n",
       "    }\n",
       "\n",
       "    .colab-df-convert:hover {\n",
       "      background-color: #E2EBFA;\n",
       "      box-shadow: 0px 1px 2px rgba(60, 64, 67, 0.3), 0px 1px 3px 1px rgba(60, 64, 67, 0.15);\n",
       "      fill: #174EA6;\n",
       "    }\n",
       "\n",
       "    .colab-df-buttons div {\n",
       "      margin-bottom: 4px;\n",
       "    }\n",
       "\n",
       "    [theme=dark] .colab-df-convert {\n",
       "      background-color: #3B4455;\n",
       "      fill: #D2E3FC;\n",
       "    }\n",
       "\n",
       "    [theme=dark] .colab-df-convert:hover {\n",
       "      background-color: #434B5C;\n",
       "      box-shadow: 0px 1px 3px 1px rgba(0, 0, 0, 0.15);\n",
       "      filter: drop-shadow(0px 1px 2px rgba(0, 0, 0, 0.3));\n",
       "      fill: #FFFFFF;\n",
       "    }\n",
       "  </style>\n",
       "\n",
       "    <script>\n",
       "      const buttonEl =\n",
       "        document.querySelector('#df-3b617bdb-dc36-4bff-9c9e-8cc1783ee5f6 button.colab-df-convert');\n",
       "      buttonEl.style.display =\n",
       "        google.colab.kernel.accessAllowed ? 'block' : 'none';\n",
       "\n",
       "      async function convertToInteractive(key) {\n",
       "        const element = document.querySelector('#df-3b617bdb-dc36-4bff-9c9e-8cc1783ee5f6');\n",
       "        const dataTable =\n",
       "          await google.colab.kernel.invokeFunction('convertToInteractive',\n",
       "                                                    [key], {});\n",
       "        if (!dataTable) return;\n",
       "\n",
       "        const docLinkHtml = 'Like what you see? Visit the ' +\n",
       "          '<a target=\"_blank\" href=https://colab.research.google.com/notebooks/data_table.ipynb>data table notebook</a>'\n",
       "          + ' to learn more about interactive tables.';\n",
       "        element.innerHTML = '';\n",
       "        dataTable['output_type'] = 'display_data';\n",
       "        await google.colab.output.renderOutput(dataTable, element);\n",
       "        const docLink = document.createElement('div');\n",
       "        docLink.innerHTML = docLinkHtml;\n",
       "        element.appendChild(docLink);\n",
       "      }\n",
       "    </script>\n",
       "  </div>\n",
       "  \n",
       "    </div>\n",
       "  </div>\n",
       "  "
      ],
      "text/plain": [
       "                                             count\n",
       "brand                 brand                       \n",
       "                                               827\n",
       "Frontier              Frontier                 402\n",
       "Bob's Red Mill        Bob's Red Mill           399\n",
       "Trader Joe's          Trader Joe's             395\n",
       "Starbucks             Starbucks                383\n",
       "...                                            ...\n",
       "Jones Brothers Coffee Jones Brothers Coffee      1\n",
       "Jonga Vision          Jonga Vision               1\n",
       "Jordan                Jordan                     1\n",
       "Jordan Almonds        Jordan Almonds             1\n",
       "yuni117               yuni117                    1\n",
       "\n",
       "[15325 rows x 1 columns]"
      ]
     },
     "execution_count": 7,
     "metadata": {},
     "output_type": "execute_result"
    }
   ],
   "source": [
    "df.groupby(\"brand\")[\"brand\"].value_counts().to_frame('count').sort_values('count',ascending=False)\n",
    "\n",
    "#There seems to be a blank value for the most common brand, I ignore this for now as brand doesn't seem to be significant"
   ]
  },
  {
   "cell_type": "markdown",
   "id": "0838940a-c878-4972-b3ec-879e4072a2ba",
   "metadata": {
    "id": "0838940a-c878-4972-b3ec-879e4072a2ba"
   },
   "source": [
    "## 2.2 Identifying key features"
   ]
  },
  {
   "cell_type": "markdown",
   "id": "39454091-d591-41e7-b879-4120ec452ca5",
   "metadata": {
    "id": "39454091-d591-41e7-b879-4120ec452ca5"
   },
   "source": [
    "- In building the model I will need the identifying feature which is \"asin\"\n",
    "- \"also_buy\" is pivotal as the recommendation model will be centered on products bought together\n",
    "- \"I presume the ranks of each product and their main category could be weighed in when deciding on recommending a product, especially when there is a deadlock between multiple similar products"
   ]
  },
  {
   "cell_type": "markdown",
   "id": "3edc8559-a394-4283-aa1b-7ebc851b72a8",
   "metadata": {
    "id": "3edc8559-a394-4283-aa1b-7ebc851b72a8"
   },
   "source": [
    "*Looking at also_buy*"
   ]
  },
  {
   "cell_type": "code",
   "execution_count": 8,
   "id": "6512037c-83fc-4c22-b17c-1b154d4e1737",
   "metadata": {
    "colab": {
     "base_uri": "https://localhost:8080/"
    },
    "executionInfo": {
     "elapsed": 196,
     "status": "ok",
     "timestamp": 1695093184466,
     "user": {
      "displayName": "",
      "userId": ""
     },
     "user_tz": 300
    },
    "id": "6512037c-83fc-4c22-b17c-1b154d4e1737",
    "outputId": "2f4debf6-0457-4bce-fcec-1f0c33083b34"
   },
   "outputs": [
    {
     "data": {
      "text/plain": [
       "list"
      ]
     },
     "execution_count": 8,
     "metadata": {},
     "output_type": "execute_result"
    }
   ],
   "source": [
    "type(df[\"also_buy\"][0])"
   ]
  },
  {
   "cell_type": "code",
   "execution_count": 9,
   "id": "0c68726e-3e02-4cd2-9e48-47884a0e159a",
   "metadata": {
    "colab": {
     "base_uri": "https://localhost:8080/"
    },
    "executionInfo": {
     "elapsed": 4,
     "status": "ok",
     "timestamp": 1695093185554,
     "user": {
      "displayName": "",
      "userId": ""
     },
     "user_tz": 300
    },
    "id": "0c68726e-3e02-4cd2-9e48-47884a0e159a",
    "outputId": "08d2903e-6652-4d89-ec76-a911e4ce977e"
   },
   "outputs": [
    {
     "data": {
      "text/plain": [
       "['B01898YHXK',\n",
       " 'B01BCM6LAC',\n",
       " 'B00Q4OL47O',\n",
       " 'B00Q4OL5QE',\n",
       " '0804189986',\n",
       " 'B00Q4OL2F8',\n",
       " '1101902663',\n",
       " 'B019PDEUU8',\n",
       " 'B01AC97ONO',\n",
       " 'B01LZIS4VX',\n",
       " 'B019QN2DN8',\n",
       " 'B019PDYP7Q',\n",
       " '1101902639',\n",
       " 'B00Q4OL0S2',\n",
       " 'B019PHEIVA',\n",
       " 'B019QNGPSW',\n",
       " 'B0041RGD0E',\n",
       " '0998089508',\n",
       " '0988775115',\n",
       " 'B0006Z7NNG',\n",
       " 'B00MU73UKS',\n",
       " 'B01KIJ7JGA',\n",
       " 'B005F9W9JQ']"
      ]
     },
     "execution_count": 9,
     "metadata": {},
     "output_type": "execute_result"
    }
   ],
   "source": [
    "df[\"also_buy\"][0]"
   ]
  },
  {
   "cell_type": "markdown",
   "id": "c79a2810-82a3-4c94-a83b-f90fc47e59c5",
   "metadata": {
    "id": "c79a2810-82a3-4c94-a83b-f90fc47e59c5"
   },
   "source": [
    "- \"also_buy\" seems to have the list of asins of all the purchases made besides the product with the asin at that instance"
   ]
  },
  {
   "cell_type": "code",
   "execution_count": 10,
   "id": "eccb3aea-ef25-4dd4-a4c6-a95af1d5788e",
   "metadata": {
    "colab": {
     "base_uri": "https://localhost:8080/",
     "height": 535
    },
    "executionInfo": {
     "elapsed": 2496,
     "status": "ok",
     "timestamp": 1695093190129,
     "user": {
      "displayName": "",
      "userId": ""
     },
     "user_tz": 300
    },
    "id": "eccb3aea-ef25-4dd4-a4c6-a95af1d5788e",
    "outputId": "6ae7e167-4f27-4911-e642-9a91920db8c3",
    "scrolled": true
   },
   "outputs": [
    {
     "data": {
      "image/png": "[encoded data removed]",
      "text/plain": [
       "<Figure size 1000x600 with 1 Axes>"
      ]
     },
     "metadata": {},
     "output_type": "display_data"
    }
   ],
   "source": [
    "import matplotlib.pyplot as plt\n",
    "\n",
    "\n",
    "# The number of products purchased together for each transaction\n",
    "num_products_purchased_together = [len(df['also_buy'][i]) for i in range(df[\"also_buy\"].count())]\n",
    "\n",
    "# Plot the distribution\n",
    "plt.figure(figsize=(10, 6))\n",
    "plt.hist(num_products_purchased_together, bins=50, edgecolor='black')\n",
    "plt.title('Distribution of Number of Products Purchased Together')\n",
    "plt.xlabel('Number of Products')\n",
    "plt.ylabel('Frequency')\n",
    "plt.grid(True, which='both', linestyle='--', linewidth=0.5)\n",
    "plt.show()"
   ]
  },
  {
   "cell_type": "markdown",
   "id": "eae2ce25-4a52-4976-8d14-d2415cd8ea5f",
   "metadata": {
    "id": "eae2ce25-4a52-4976-8d14-d2415cd8ea5f"
   },
   "source": [
    "- All transactions seem to involve a small number of products being purchased except a few"
   ]
  },
  {
   "cell_type": "markdown",
   "id": "62dd1e74-49ee-4b37-b31e-12ef6308d013",
   "metadata": {
    "id": "62dd1e74-49ee-4b37-b31e-12ef6308d013"
   },
   "source": [
    "- Investigating \"main_cat\""
   ]
  },
  {
   "cell_type": "code",
   "execution_count": 11,
   "id": "616507d0-dd55-4337-953e-27536e6b59c8",
   "metadata": {
    "colab": {
     "base_uri": "https://localhost:8080/",
     "height": 1000
    },
    "executionInfo": {
     "elapsed": 233,
     "status": "ok",
     "timestamp": 1695093193319,
     "user": {
      "displayName": "",
      "userId": ""
     },
     "user_tz": 300
    },
    "id": "616507d0-dd55-4337-953e-27536e6b59c8",
    "outputId": "1445f424-d512-4270-8a73-0f097882bb9a",
    "scrolled": true
   },
   "outputs": [
    {
     "data": {
      "text/html": [
       "\n",
       "  <div id=\"df-46b2291e-3698-4b4e-ace0-8b8b0cbd6321\" class=\"colab-df-container\">\n",
       "    <div>\n",
       "<style scoped>\n",
       "    .dataframe tbody tr th:only-of-type {\n",
       "        vertical-align: middle;\n",
       "    }\n",
       "\n",
       "    .dataframe tbody tr th {\n",
       "        vertical-align: top;\n",
       "    }\n",
       "\n",
       "    .dataframe thead th {\n",
       "        text-align: right;\n",
       "    }\n",
       "</style>\n",
       "<table border=\"1\" class=\"dataframe\">\n",
       "  <thead>\n",
       "    <tr style=\"text-align: right;\">\n",
       "      <th></th>\n",
       "      <th></th>\n",
       "      <th>count</th>\n",
       "    </tr>\n",
       "    <tr>\n",
       "      <th>main_cat</th>\n",
       "      <th>main_cat</th>\n",
       "      <th></th>\n",
       "    </tr>\n",
       "  </thead>\n",
       "  <tbody>\n",
       "    <tr>\n",
       "      <th>Grocery</th>\n",
       "      <th>Grocery</th>\n",
       "      <td>75627</td>\n",
       "    </tr>\n",
       "    <tr>\n",
       "      <th>Health &amp; Personal Care</th>\n",
       "      <th>Health &amp; Personal Care</th>\n",
       "      <td>3180</td>\n",
       "    </tr>\n",
       "    <tr>\n",
       "      <th>Amazon Home</th>\n",
       "      <th>Amazon Home</th>\n",
       "      <td>2486</td>\n",
       "    </tr>\n",
       "    <tr>\n",
       "      <th></th>\n",
       "      <th></th>\n",
       "      <td>358</td>\n",
       "    </tr>\n",
       "    <tr>\n",
       "      <th>All Beauty</th>\n",
       "      <th>All Beauty</th>\n",
       "      <td>345</td>\n",
       "    </tr>\n",
       "    <tr>\n",
       "      <th>Toys &amp; Games</th>\n",
       "      <th>Toys &amp; Games</th>\n",
       "      <td>330</td>\n",
       "    </tr>\n",
       "    <tr>\n",
       "      <th>Industrial &amp; Scientific</th>\n",
       "      <th>Industrial &amp; Scientific</th>\n",
       "      <td>308</td>\n",
       "    </tr>\n",
       "    <tr>\n",
       "      <th>Office Products</th>\n",
       "      <th>Office Products</th>\n",
       "      <td>260</td>\n",
       "    </tr>\n",
       "    <tr>\n",
       "      <th>Sports &amp; Outdoors</th>\n",
       "      <th>Sports &amp; Outdoors</th>\n",
       "      <td>182</td>\n",
       "    </tr>\n",
       "    <tr>\n",
       "      <th>Arts, Crafts &amp; Sewing</th>\n",
       "      <th>Arts, Crafts &amp; Sewing</th>\n",
       "      <td>47</td>\n",
       "    </tr>\n",
       "    <tr>\n",
       "      <th>Baby</th>\n",
       "      <th>Baby</th>\n",
       "      <td>41</td>\n",
       "    </tr>\n",
       "    <tr>\n",
       "      <th>Pet Supplies</th>\n",
       "      <th>Pet Supplies</th>\n",
       "      <td>28</td>\n",
       "    </tr>\n",
       "    <tr>\n",
       "      <th>&lt;img src=\"https://images-na.ssl-images-amazon.com/images/G/01/nav2/images/gui/amazon-fashion-store-new._CB520838675_.png\" class=\"nav-categ-image\" alt=\"AMAZON FASHION\"/&gt;</th>\n",
       "      <th>&lt;img src=\"https://images-na.ssl-images-amazon.com/images/G/01/nav2/images/gui/amazon-fashion-store-new._CB520838675_.png\" class=\"nav-categ-image\" alt=\"AMAZON FASHION\"/&gt;</th>\n",
       "      <td>24</td>\n",
       "    </tr>\n",
       "    <tr>\n",
       "      <th>&lt;img src=\"https://images-na.ssl-images-amazon.com/images/G/01/pantry/subnav/pantry-subnav-logo._CB474181323_.png\" class=\"nav-categ-image\" alt=\"Prime Pantry\"/&gt;</th>\n",
       "      <th>&lt;img src=\"https://images-na.ssl-images-amazon.com/images/G/01/pantry/subnav/pantry-subnav-logo._CB474181323_.png\" class=\"nav-categ-image\" alt=\"Prime Pantry\"/&gt;</th>\n",
       "      <td>21</td>\n",
       "    </tr>\n",
       "    <tr>\n",
       "      <th>Tools &amp; Home Improvement</th>\n",
       "      <th>Tools &amp; Home Improvement</th>\n",
       "      <td>17</td>\n",
       "    </tr>\n",
       "    <tr>\n",
       "      <th>Cell Phones &amp; Accessories</th>\n",
       "      <th>Cell Phones &amp; Accessories</th>\n",
       "      <td>17</td>\n",
       "    </tr>\n",
       "    <tr>\n",
       "      <th>All Electronics</th>\n",
       "      <th>All Electronics</th>\n",
       "      <td>7</td>\n",
       "    </tr>\n",
       "    <tr>\n",
       "      <th>Computers</th>\n",
       "      <th>Computers</th>\n",
       "      <td>3</td>\n",
       "    </tr>\n",
       "    <tr>\n",
       "      <th>&lt;img src=\"https://images-na.ssl-images-amazon.com/images/G/01/img16/amazon-launchpad/content-grid/launchpad_lp_nav-logo_v2._CB268684856_.png\" class=\"nav-categ-image\" alt=\"AMAZON LAUNCHPAD\"/&gt;</th>\n",
       "      <th>&lt;img src=\"https://images-na.ssl-images-amazon.com/images/G/01/img16/amazon-launchpad/content-grid/launchpad_lp_nav-logo_v2._CB268684856_.png\" class=\"nav-categ-image\" alt=\"AMAZON LAUNCHPAD\"/&gt;</th>\n",
       "      <td>3</td>\n",
       "    </tr>\n",
       "    <tr>\n",
       "      <th>Automotive</th>\n",
       "      <th>Automotive</th>\n",
       "      <td>2</td>\n",
       "    </tr>\n",
       "    <tr>\n",
       "      <th>Camera &amp; Photo</th>\n",
       "      <th>Camera &amp; Photo</th>\n",
       "      <td>2</td>\n",
       "    </tr>\n",
       "    <tr>\n",
       "      <th>Software</th>\n",
       "      <th>Software</th>\n",
       "      <td>1</td>\n",
       "    </tr>\n",
       "    <tr>\n",
       "      <th>&lt;img src=\"https://m.media-amazon.com/images/G/01/nav2/images/gui/amazon-fashion-store-new._CB520838675_.png\" class=\"nav-categ-image\" alt=\"AMAZON FASHION\"/&gt;</th>\n",
       "      <th>&lt;img src=\"https://m.media-amazon.com/images/G/01/nav2/images/gui/amazon-fashion-store-new._CB520838675_.png\" class=\"nav-categ-image\" alt=\"AMAZON FASHION\"/&gt;</th>\n",
       "      <td>1</td>\n",
       "    </tr>\n",
       "    <tr>\n",
       "      <th>Movies &amp; TV</th>\n",
       "      <th>Movies &amp; TV</th>\n",
       "      <td>1</td>\n",
       "    </tr>\n",
       "    <tr>\n",
       "      <th>Home Audio &amp; Theater</th>\n",
       "      <th>Home Audio &amp; Theater</th>\n",
       "      <td>1</td>\n",
       "    </tr>\n",
       "    <tr>\n",
       "      <th>&lt;img src=\"https://images-na.ssl-images-amazon.com/images/G/01/digital/music/logos/amzn_music_logo_subnav._CB471835632_.png\" class=\"nav-categ-image\" alt=\"Digital Music\"/&gt;</th>\n",
       "      <th>&lt;img src=\"https://images-na.ssl-images-amazon.com/images/G/01/digital/music/logos/amzn_music_logo_subnav._CB471835632_.png\" class=\"nav-categ-image\" alt=\"Digital Music\"/&gt;</th>\n",
       "      <td>1</td>\n",
       "    </tr>\n",
       "    <tr>\n",
       "      <th>Car Electronics</th>\n",
       "      <th>Car Electronics</th>\n",
       "      <td>1</td>\n",
       "    </tr>\n",
       "  </tbody>\n",
       "</table>\n",
       "</div>\n",
       "    <div class=\"colab-df-buttons\">\n",
       "      \n",
       "  <div class=\"colab-df-container\">\n",
       "    <button class=\"colab-df-convert\" onclick=\"convertToInteractive('df-46b2291e-3698-4b4e-ace0-8b8b0cbd6321')\"\n",
       "            title=\"Convert this dataframe to an interactive table.\"\n",
       "            style=\"display:none;\">\n",
       "      \n",
       "  <svg xmlns=\"http://www.w3.org/2000/svg\" height=\"24px\" viewBox=\"0 -960 960 960\">\n",
       "    <path d=\"M120-120v-720h720v720H120Zm60-500h600v-160H180v160Zm220 220h160v-160H400v160Zm0 220h160v-160H400v160ZM180-400h160v-160H180v160Zm440 0h160v-160H620v160ZM180-180h160v-160H180v160Zm440 0h160v-160H620v160Z\"/>\n",
       "  </svg>\n",
       "    </button>\n",
       "    \n",
       "  <style>\n",
       "    .colab-df-container {\n",
       "      display:flex;\n",
       "      gap: 12px;\n",
       "    }\n",
       "\n",
       "    .colab-df-convert {\n",
       "      background-color: #E8F0FE;\n",
       "      border: none;\n",
       "      border-radius: 50%;\n",
       "      cursor: pointer;\n",
       "      display: none;\n",
       "      fill: #1967D2;\n",
       "      height: 32px;\n",
       "      padding: 0 0 0 0;\n",
       "      width: 32px;\n",
       "    }\n",
       "\n",
       "    .colab-df-convert:hover {\n",
       "      background-color: #E2EBFA;\n",
       "      box-shadow: 0px 1px 2px rgba(60, 64, 67, 0.3), 0px 1px 3px 1px rgba(60, 64, 67, 0.15);\n",
       "      fill: #174EA6;\n",
       "    }\n",
       "\n",
       "    .colab-df-buttons div {\n",
       "      margin-bottom: 4px;\n",
       "    }\n",
       "\n",
       "    [theme=dark] .colab-df-convert {\n",
       "      background-color: #3B4455;\n",
       "      fill: #D2E3FC;\n",
       "    }\n",
       "\n",
       "    [theme=dark] .colab-df-convert:hover {\n",
       "      background-color: #434B5C;\n",
       "      box-shadow: 0px 1px 3px 1px rgba(0, 0, 0, 0.15);\n",
       "      filter: drop-shadow(0px 1px 2px rgba(0, 0, 0, 0.3));\n",
       "      fill: #FFFFFF;\n",
       "    }\n",
       "  </style>\n",
       "\n",
       "    <script>\n",
       "      const buttonEl =\n",
       "        document.querySelector('#df-46b2291e-3698-4b4e-ace0-8b8b0cbd6321 button.colab-df-convert');\n",
       "      buttonEl.style.display =\n",
       "        google.colab.kernel.accessAllowed ? 'block' : 'none';\n",
       "\n",
       "      async function convertToInteractive(key) {\n",
       "        const element = document.querySelector('#df-46b2291e-3698-4b4e-ace0-8b8b0cbd6321');\n",
       "        const dataTable =\n",
       "          await google.colab.kernel.invokeFunction('convertToInteractive',\n",
       "                                                    [key], {});\n",
       "        if (!dataTable) return;\n",
       "\n",
       "        const docLinkHtml = 'Like what you see? Visit the ' +\n",
       "          '<a target=\"_blank\" href=https://colab.research.google.com/notebooks/data_table.ipynb>data table notebook</a>'\n",
       "          + ' to learn more about interactive tables.';\n",
       "        element.innerHTML = '';\n",
       "        dataTable['output_type'] = 'display_data';\n",
       "        await google.colab.output.renderOutput(dataTable, element);\n",
       "        const docLink = document.createElement('div');\n",
       "        docLink.innerHTML = docLinkHtml;\n",
       "        element.appendChild(docLink);\n",
       "      }\n",
       "    </script>\n",
       "  </div>\n",
       "  \n",
       "    </div>\n",
       "  </div>\n",
       "  "
      ],
      "text/plain": [
       "                                                                                                       count\n",
       "main_cat                                           main_cat                                                 \n",
       "Grocery                                            Grocery                                             75627\n",
       "Health & Personal Care                             Health & Personal Care                               3180\n",
       "Amazon Home                                        Amazon Home                                          2486\n",
       "                                                                                                         358\n",
       "All Beauty                                         All Beauty                                            345\n",
       "Toys & Games                                       Toys & Games                                          330\n",
       "Industrial & Scientific                            Industrial & Scientific                               308\n",
       "Office Products                                    Office Products                                       260\n",
       "Sports & Outdoors                                  Sports & Outdoors                                     182\n",
       "Arts, Crafts & Sewing                              Arts, Crafts & Sewing                                  47\n",
       "Baby                                               Baby                                                   41\n",
       "Pet Supplies                                       Pet Supplies                                           28\n",
       "<img src=\"https://images-na.ssl-images-amazon.c... <img src=\"https://images-na.ssl-images-amazon.c...     24\n",
       "<img src=\"https://images-na.ssl-images-amazon.c... <img src=\"https://images-na.ssl-images-amazon.c...     21\n",
       "Tools & Home Improvement                           Tools & Home Improvement                               17\n",
       "Cell Phones & Accessories                          Cell Phones & Accessories                              17\n",
       "All Electronics                                    All Electronics                                         7\n",
       "Computers                                          Computers                                               3\n",
       "<img src=\"https://images-na.ssl-images-amazon.c... <img src=\"https://images-na.ssl-images-amazon.c...      3\n",
       "Automotive                                         Automotive                                              2\n",
       "Camera & Photo                                     Camera & Photo                                          2\n",
       "Software                                           Software                                                1\n",
       "<img src=\"https://m.media-amazon.com/images/G/0... <img src=\"https://m.media-amazon.com/images/G/0...      1\n",
       "Movies & TV                                        Movies & TV                                             1\n",
       "Home Audio & Theater                               Home Audio & Theater                                    1\n",
       "<img src=\"https://images-na.ssl-images-amazon.c... <img src=\"https://images-na.ssl-images-amazon.c...      1\n",
       "Car Electronics                                    Car Electronics                                         1"
      ]
     },
     "execution_count": 11,
     "metadata": {},
     "output_type": "execute_result"
    }
   ],
   "source": [
    "df.groupby(\"main_cat\")[\"main_cat\"].value_counts().to_frame('count').sort_values('count',ascending=False)\n",
    "\n",
    "#Pitfall #1 - incorrect category values for some instances"
   ]
  },
  {
   "cell_type": "markdown",
   "id": "32e83bca-a36e-4f5d-b20c-a762c4607343",
   "metadata": {
    "id": "32e83bca-a36e-4f5d-b20c-a762c4607343"
   },
   "source": [
    "- Checking on rank"
   ]
  },
  {
   "cell_type": "code",
   "execution_count": 12,
   "id": "3ce6eff7-1a91-4d60-8415-4a381afc9519",
   "metadata": {
    "colab": {
     "base_uri": "https://localhost:8080/"
    },
    "executionInfo": {
     "elapsed": 245,
     "status": "ok",
     "timestamp": 1695093195627,
     "user": {
      "displayName": "",
      "userId": ""
     },
     "user_tz": 300
    },
    "id": "3ce6eff7-1a91-4d60-8415-4a381afc9519",
    "outputId": "73ca353d-18e3-47e6-924e-e6542774debd"
   },
   "outputs": [
    {
     "data": {
      "text/plain": [
       "rank_len\n",
       "35    42605\n",
       "34    24819\n",
       "0      5743\n",
       "2      2853\n",
       "33     2544\n",
       "31     2398\n",
       "30      961\n",
       "1       312\n",
       "3       270\n",
       "37      245\n",
       "4       191\n",
       "36      134\n",
       "29      124\n",
       "25       27\n",
       "28       21\n",
       "27       19\n",
       "32       12\n",
       "24        9\n",
       "23        3\n",
       "26        1\n",
       "19        1\n",
       "17        1\n",
       "38        1\n",
       "dtype: int64"
      ]
     },
     "execution_count": 12,
     "metadata": {},
     "output_type": "execute_result"
    }
   ],
   "source": [
    "df['rank_len'] = df['rank'].str.len()\n",
    "df.groupby(\"rank_len\").size().sort_values(ascending=False)\n",
    "\n",
    "#Pitfall #2 - Will need to see why there is such variance in rank lengths"
   ]
  },
  {
   "cell_type": "markdown",
   "id": "902ce79e-3b45-4f81-8438-75463b0c6388",
   "metadata": {
    "id": "902ce79e-3b45-4f81-8438-75463b0c6388"
   },
   "source": [
    "## 2.3 Addressing the pitfalls ( Data pre-processing )"
   ]
  },
  {
   "cell_type": "markdown",
   "id": "s3egVkdvd3bO",
   "metadata": {
    "id": "s3egVkdvd3bO"
   },
   "source": [
    "### Main category values"
   ]
  },
  {
   "cell_type": "code",
   "execution_count": 13,
   "id": "f9581b43-4be7-48d6-a659-e4a6c0d99397",
   "metadata": {
    "colab": {
     "base_uri": "https://localhost:8080/",
     "height": 1000
    },
    "executionInfo": {
     "elapsed": 370,
     "status": "ok",
     "timestamp": 1695093197885,
     "user": {
      "displayName": "",
      "userId": ""
     },
     "user_tz": 300
    },
    "id": "f9581b43-4be7-48d6-a659-e4a6c0d99397",
    "outputId": "6bf2895e-c93c-471b-f3fd-d8c3008732aa"
   },
   "outputs": [
    {
     "data": {
      "text/html": [
       "\n",
       "  <div id=\"df-42e70d1f-9bca-4b90-93af-e014c336902f\" class=\"colab-df-container\">\n",
       "    <div>\n",
       "<style scoped>\n",
       "    .dataframe tbody tr th:only-of-type {\n",
       "        vertical-align: middle;\n",
       "    }\n",
       "\n",
       "    .dataframe tbody tr th {\n",
       "        vertical-align: top;\n",
       "    }\n",
       "\n",
       "    .dataframe thead th {\n",
       "        text-align: right;\n",
       "    }\n",
       "</style>\n",
       "<table border=\"1\" class=\"dataframe\">\n",
       "  <thead>\n",
       "    <tr style=\"text-align: right;\">\n",
       "      <th></th>\n",
       "      <th></th>\n",
       "      <th>count</th>\n",
       "    </tr>\n",
       "    <tr>\n",
       "      <th>main_cat</th>\n",
       "      <th>main_cat</th>\n",
       "      <th></th>\n",
       "    </tr>\n",
       "  </thead>\n",
       "  <tbody>\n",
       "    <tr>\n",
       "      <th>Grocery</th>\n",
       "      <th>Grocery</th>\n",
       "      <td>75627</td>\n",
       "    </tr>\n",
       "    <tr>\n",
       "      <th>Health &amp; Personal Care</th>\n",
       "      <th>Health &amp; Personal Care</th>\n",
       "      <td>3180</td>\n",
       "    </tr>\n",
       "    <tr>\n",
       "      <th>Amazon Home</th>\n",
       "      <th>Amazon Home</th>\n",
       "      <td>2486</td>\n",
       "    </tr>\n",
       "    <tr>\n",
       "      <th></th>\n",
       "      <th></th>\n",
       "      <td>358</td>\n",
       "    </tr>\n",
       "    <tr>\n",
       "      <th>All Beauty</th>\n",
       "      <th>All Beauty</th>\n",
       "      <td>345</td>\n",
       "    </tr>\n",
       "    <tr>\n",
       "      <th>Toys &amp; Games</th>\n",
       "      <th>Toys &amp; Games</th>\n",
       "      <td>330</td>\n",
       "    </tr>\n",
       "    <tr>\n",
       "      <th>Industrial &amp; Scientific</th>\n",
       "      <th>Industrial &amp; Scientific</th>\n",
       "      <td>308</td>\n",
       "    </tr>\n",
       "    <tr>\n",
       "      <th>Office Products</th>\n",
       "      <th>Office Products</th>\n",
       "      <td>260</td>\n",
       "    </tr>\n",
       "    <tr>\n",
       "      <th>Sports &amp; Outdoors</th>\n",
       "      <th>Sports &amp; Outdoors</th>\n",
       "      <td>182</td>\n",
       "    </tr>\n",
       "    <tr>\n",
       "      <th>Arts, Crafts &amp; Sewing</th>\n",
       "      <th>Arts, Crafts &amp; Sewing</th>\n",
       "      <td>47</td>\n",
       "    </tr>\n",
       "    <tr>\n",
       "      <th>Baby</th>\n",
       "      <th>Baby</th>\n",
       "      <td>41</td>\n",
       "    </tr>\n",
       "    <tr>\n",
       "      <th>Pet Supplies</th>\n",
       "      <th>Pet Supplies</th>\n",
       "      <td>28</td>\n",
       "    </tr>\n",
       "    <tr>\n",
       "      <th>&lt;img src=\"https://images-na.ssl-images-amazon.com/images/G/01/nav2/images/gui/amazon-fashion-store-new._CB520838675_.png\" class=\"nav-categ-image\" alt=\"AMAZON FASHION\"/&gt;</th>\n",
       "      <th>&lt;img src=\"https://images-na.ssl-images-amazon.com/images/G/01/nav2/images/gui/amazon-fashion-store-new._CB520838675_.png\" class=\"nav-categ-image\" alt=\"AMAZON FASHION\"/&gt;</th>\n",
       "      <td>24</td>\n",
       "    </tr>\n",
       "    <tr>\n",
       "      <th>&lt;img src=\"https://images-na.ssl-images-amazon.com/images/G/01/pantry/subnav/pantry-subnav-logo._CB474181323_.png\" class=\"nav-categ-image\" alt=\"Prime Pantry\"/&gt;</th>\n",
       "      <th>&lt;img src=\"https://images-na.ssl-images-amazon.com/images/G/01/pantry/subnav/pantry-subnav-logo._CB474181323_.png\" class=\"nav-categ-image\" alt=\"Prime Pantry\"/&gt;</th>\n",
       "      <td>21</td>\n",
       "    </tr>\n",
       "    <tr>\n",
       "      <th>Tools &amp; Home Improvement</th>\n",
       "      <th>Tools &amp; Home Improvement</th>\n",
       "      <td>17</td>\n",
       "    </tr>\n",
       "    <tr>\n",
       "      <th>Cell Phones &amp; Accessories</th>\n",
       "      <th>Cell Phones &amp; Accessories</th>\n",
       "      <td>17</td>\n",
       "    </tr>\n",
       "    <tr>\n",
       "      <th>All Electronics</th>\n",
       "      <th>All Electronics</th>\n",
       "      <td>7</td>\n",
       "    </tr>\n",
       "    <tr>\n",
       "      <th>Computers</th>\n",
       "      <th>Computers</th>\n",
       "      <td>3</td>\n",
       "    </tr>\n",
       "    <tr>\n",
       "      <th>&lt;img src=\"https://images-na.ssl-images-amazon.com/images/G/01/img16/amazon-launchpad/content-grid/launchpad_lp_nav-logo_v2._CB268684856_.png\" class=\"nav-categ-image\" alt=\"AMAZON LAUNCHPAD\"/&gt;</th>\n",
       "      <th>&lt;img src=\"https://images-na.ssl-images-amazon.com/images/G/01/img16/amazon-launchpad/content-grid/launchpad_lp_nav-logo_v2._CB268684856_.png\" class=\"nav-categ-image\" alt=\"AMAZON LAUNCHPAD\"/&gt;</th>\n",
       "      <td>3</td>\n",
       "    </tr>\n",
       "    <tr>\n",
       "      <th>Automotive</th>\n",
       "      <th>Automotive</th>\n",
       "      <td>2</td>\n",
       "    </tr>\n",
       "    <tr>\n",
       "      <th>Camera &amp; Photo</th>\n",
       "      <th>Camera &amp; Photo</th>\n",
       "      <td>2</td>\n",
       "    </tr>\n",
       "    <tr>\n",
       "      <th>Software</th>\n",
       "      <th>Software</th>\n",
       "      <td>1</td>\n",
       "    </tr>\n",
       "    <tr>\n",
       "      <th>&lt;img src=\"https://m.media-amazon.com/images/G/01/nav2/images/gui/amazon-fashion-store-new._CB520838675_.png\" class=\"nav-categ-image\" alt=\"AMAZON FASHION\"/&gt;</th>\n",
       "      <th>&lt;img src=\"https://m.media-amazon.com/images/G/01/nav2/images/gui/amazon-fashion-store-new._CB520838675_.png\" class=\"nav-categ-image\" alt=\"AMAZON FASHION\"/&gt;</th>\n",
       "      <td>1</td>\n",
       "    </tr>\n",
       "    <tr>\n",
       "      <th>Movies &amp; TV</th>\n",
       "      <th>Movies &amp; TV</th>\n",
       "      <td>1</td>\n",
       "    </tr>\n",
       "    <tr>\n",
       "      <th>Home Audio &amp; Theater</th>\n",
       "      <th>Home Audio &amp; Theater</th>\n",
       "      <td>1</td>\n",
       "    </tr>\n",
       "    <tr>\n",
       "      <th>&lt;img src=\"https://images-na.ssl-images-amazon.com/images/G/01/digital/music/logos/amzn_music_logo_subnav._CB471835632_.png\" class=\"nav-categ-image\" alt=\"Digital Music\"/&gt;</th>\n",
       "      <th>&lt;img src=\"https://images-na.ssl-images-amazon.com/images/G/01/digital/music/logos/amzn_music_logo_subnav._CB471835632_.png\" class=\"nav-categ-image\" alt=\"Digital Music\"/&gt;</th>\n",
       "      <td>1</td>\n",
       "    </tr>\n",
       "    <tr>\n",
       "      <th>Car Electronics</th>\n",
       "      <th>Car Electronics</th>\n",
       "      <td>1</td>\n",
       "    </tr>\n",
       "  </tbody>\n",
       "</table>\n",
       "</div>\n",
       "    <div class=\"colab-df-buttons\">\n",
       "      \n",
       "  <div class=\"colab-df-container\">\n",
       "    <button class=\"colab-df-convert\" onclick=\"convertToInteractive('df-42e70d1f-9bca-4b90-93af-e014c336902f')\"\n",
       "            title=\"Convert this dataframe to an interactive table.\"\n",
       "            style=\"display:none;\">\n",
       "      \n",
       "  <svg xmlns=\"http://www.w3.org/2000/svg\" height=\"24px\" viewBox=\"0 -960 960 960\">\n",
       "    <path d=\"M120-120v-720h720v720H120Zm60-500h600v-160H180v160Zm220 220h160v-160H400v160Zm0 220h160v-160H400v160ZM180-400h160v-160H180v160Zm440 0h160v-160H620v160ZM180-180h160v-160H180v160Zm440 0h160v-160H620v160Z\"/>\n",
       "  </svg>\n",
       "    </button>\n",
       "    \n",
       "  <style>\n",
       "    .colab-df-container {\n",
       "      display:flex;\n",
       "      gap: 12px;\n",
       "    }\n",
       "\n",
       "    .colab-df-convert {\n",
       "      background-color: #E8F0FE;\n",
       "      border: none;\n",
       "      border-radius: 50%;\n",
       "      cursor: pointer;\n",
       "      display: none;\n",
       "      fill: #1967D2;\n",
       "      height: 32px;\n",
       "      padding: 0 0 0 0;\n",
       "      width: 32px;\n",
       "    }\n",
       "\n",
       "    .colab-df-convert:hover {\n",
       "      background-color: #E2EBFA;\n",
       "      box-shadow: 0px 1px 2px rgba(60, 64, 67, 0.3), 0px 1px 3px 1px rgba(60, 64, 67, 0.15);\n",
       "      fill: #174EA6;\n",
       "    }\n",
       "\n",
       "    .colab-df-buttons div {\n",
       "      margin-bottom: 4px;\n",
       "    }\n",
       "\n",
       "    [theme=dark] .colab-df-convert {\n",
       "      background-color: #3B4455;\n",
       "      fill: #D2E3FC;\n",
       "    }\n",
       "\n",
       "    [theme=dark] .colab-df-convert:hover {\n",
       "      background-color: #434B5C;\n",
       "      box-shadow: 0px 1px 3px 1px rgba(0, 0, 0, 0.15);\n",
       "      filter: drop-shadow(0px 1px 2px rgba(0, 0, 0, 0.3));\n",
       "      fill: #FFFFFF;\n",
       "    }\n",
       "  </style>\n",
       "\n",
       "    <script>\n",
       "      const buttonEl =\n",
       "        document.querySelector('#df-42e70d1f-9bca-4b90-93af-e014c336902f button.colab-df-convert');\n",
       "      buttonEl.style.display =\n",
       "        google.colab.kernel.accessAllowed ? 'block' : 'none';\n",
       "\n",
       "      async function convertToInteractive(key) {\n",
       "        const element = document.querySelector('#df-42e70d1f-9bca-4b90-93af-e014c336902f');\n",
       "        const dataTable =\n",
       "          await google.colab.kernel.invokeFunction('convertToInteractive',\n",
       "                                                    [key], {});\n",
       "        if (!dataTable) return;\n",
       "\n",
       "        const docLinkHtml = 'Like what you see? Visit the ' +\n",
       "          '<a target=\"_blank\" href=https://colab.research.google.com/notebooks/data_table.ipynb>data table notebook</a>'\n",
       "          + ' to learn more about interactive tables.';\n",
       "        element.innerHTML = '';\n",
       "        dataTable['output_type'] = 'display_data';\n",
       "        await google.colab.output.renderOutput(dataTable, element);\n",
       "        const docLink = document.createElement('div');\n",
       "        docLink.innerHTML = docLinkHtml;\n",
       "        element.appendChild(docLink);\n",
       "      }\n",
       "    </script>\n",
       "  </div>\n",
       "  \n",
       "    </div>\n",
       "  </div>\n",
       "  "
      ],
      "text/plain": [
       "                                                                                                       count\n",
       "main_cat                                           main_cat                                                 \n",
       "Grocery                                            Grocery                                             75627\n",
       "Health & Personal Care                             Health & Personal Care                               3180\n",
       "Amazon Home                                        Amazon Home                                          2486\n",
       "                                                                                                         358\n",
       "All Beauty                                         All Beauty                                            345\n",
       "Toys & Games                                       Toys & Games                                          330\n",
       "Industrial & Scientific                            Industrial & Scientific                               308\n",
       "Office Products                                    Office Products                                       260\n",
       "Sports & Outdoors                                  Sports & Outdoors                                     182\n",
       "Arts, Crafts & Sewing                              Arts, Crafts & Sewing                                  47\n",
       "Baby                                               Baby                                                   41\n",
       "Pet Supplies                                       Pet Supplies                                           28\n",
       "<img src=\"https://images-na.ssl-images-amazon.c... <img src=\"https://images-na.ssl-images-amazon.c...     24\n",
       "<img src=\"https://images-na.ssl-images-amazon.c... <img src=\"https://images-na.ssl-images-amazon.c...     21\n",
       "Tools & Home Improvement                           Tools & Home Improvement                               17\n",
       "Cell Phones & Accessories                          Cell Phones & Accessories                              17\n",
       "All Electronics                                    All Electronics                                         7\n",
       "Computers                                          Computers                                               3\n",
       "<img src=\"https://images-na.ssl-images-amazon.c... <img src=\"https://images-na.ssl-images-amazon.c...      3\n",
       "Automotive                                         Automotive                                              2\n",
       "Camera & Photo                                     Camera & Photo                                          2\n",
       "Software                                           Software                                                1\n",
       "<img src=\"https://m.media-amazon.com/images/G/0... <img src=\"https://m.media-amazon.com/images/G/0...      1\n",
       "Movies & TV                                        Movies & TV                                             1\n",
       "Home Audio & Theater                               Home Audio & Theater                                    1\n",
       "<img src=\"https://images-na.ssl-images-amazon.c... <img src=\"https://images-na.ssl-images-amazon.c...      1\n",
       "Car Electronics                                    Car Electronics                                         1"
      ]
     },
     "execution_count": 13,
     "metadata": {},
     "output_type": "execute_result"
    }
   ],
   "source": [
    "df.groupby(\"main_cat\")[\"main_cat\"].value_counts().to_frame('count').sort_values('count',ascending=False)\n",
    "\n",
    "#Pitfall #1 - incorrect category values for some instances"
   ]
  },
  {
   "cell_type": "markdown",
   "id": "xRNWFmWkdsqB",
   "metadata": {
    "id": "xRNWFmWkdsqB"
   },
   "source": [
    "*Filtering and replacing the outliers(calculated through string size) based on the median main category value = \"Grocery\"*"
   ]
  },
  {
   "cell_type": "code",
   "execution_count": 14,
   "id": "2c15b47c-09e4-4ec5-8e85-ed061a354d9c",
   "metadata": {
    "colab": {
     "base_uri": "https://localhost:8080/",
     "height": 771
    },
    "executionInfo": {
     "elapsed": 258,
     "status": "ok",
     "timestamp": 1695093199653,
     "user": {
      "displayName": "",
      "userId": ""
     },
     "user_tz": 300
    },
    "id": "2c15b47c-09e4-4ec5-8e85-ed061a354d9c",
    "outputId": "a16ca920-8d30-457d-b1cb-9fecea04f16d"
   },
   "outputs": [
    {
     "data": {
      "text/html": [
       "\n",
       "  <div id=\"df-f9ff6dc0-3876-4d7c-9642-79c37e95f2e0\" class=\"colab-df-container\">\n",
       "    <div>\n",
       "<style scoped>\n",
       "    .dataframe tbody tr th:only-of-type {\n",
       "        vertical-align: middle;\n",
       "    }\n",
       "\n",
       "    .dataframe tbody tr th {\n",
       "        vertical-align: top;\n",
       "    }\n",
       "\n",
       "    .dataframe thead th {\n",
       "        text-align: right;\n",
       "    }\n",
       "</style>\n",
       "<table border=\"1\" class=\"dataframe\">\n",
       "  <thead>\n",
       "    <tr style=\"text-align: right;\">\n",
       "      <th></th>\n",
       "      <th></th>\n",
       "      <th>count</th>\n",
       "    </tr>\n",
       "    <tr>\n",
       "      <th>main_cat_size</th>\n",
       "      <th>main_cat_size</th>\n",
       "      <th></th>\n",
       "    </tr>\n",
       "  </thead>\n",
       "  <tbody>\n",
       "    <tr>\n",
       "      <th>8</th>\n",
       "      <th>8</th>\n",
       "      <td>1</td>\n",
       "    </tr>\n",
       "    <tr>\n",
       "      <th>155</th>\n",
       "      <th>155</th>\n",
       "      <td>1</td>\n",
       "    </tr>\n",
       "    <tr>\n",
       "      <th>169</th>\n",
       "      <th>169</th>\n",
       "      <td>1</td>\n",
       "    </tr>\n",
       "    <tr>\n",
       "      <th>20</th>\n",
       "      <th>20</th>\n",
       "      <td>1</td>\n",
       "    </tr>\n",
       "    <tr>\n",
       "      <th>14</th>\n",
       "      <th>14</th>\n",
       "      <td>2</td>\n",
       "    </tr>\n",
       "    <tr>\n",
       "      <th>190</th>\n",
       "      <th>190</th>\n",
       "      <td>3</td>\n",
       "    </tr>\n",
       "    <tr>\n",
       "      <th>9</th>\n",
       "      <th>9</th>\n",
       "      <td>3</td>\n",
       "    </tr>\n",
       "    <tr>\n",
       "      <th>25</th>\n",
       "      <th>25</th>\n",
       "      <td>17</td>\n",
       "    </tr>\n",
       "    <tr>\n",
       "      <th>24</th>\n",
       "      <th>24</th>\n",
       "      <td>17</td>\n",
       "    </tr>\n",
       "    <tr>\n",
       "      <th>158</th>\n",
       "      <th>158</th>\n",
       "      <td>21</td>\n",
       "    </tr>\n",
       "    <tr>\n",
       "      <th>168</th>\n",
       "      <th>168</th>\n",
       "      <td>24</td>\n",
       "    </tr>\n",
       "    <tr>\n",
       "      <th>4</th>\n",
       "      <th>4</th>\n",
       "      <td>41</td>\n",
       "    </tr>\n",
       "    <tr>\n",
       "      <th>21</th>\n",
       "      <th>21</th>\n",
       "      <td>47</td>\n",
       "    </tr>\n",
       "    <tr>\n",
       "      <th>17</th>\n",
       "      <th>17</th>\n",
       "      <td>182</td>\n",
       "    </tr>\n",
       "    <tr>\n",
       "      <th>15</th>\n",
       "      <th>15</th>\n",
       "      <td>268</td>\n",
       "    </tr>\n",
       "    <tr>\n",
       "      <th>23</th>\n",
       "      <th>23</th>\n",
       "      <td>308</td>\n",
       "    </tr>\n",
       "    <tr>\n",
       "      <th>10</th>\n",
       "      <th>10</th>\n",
       "      <td>347</td>\n",
       "    </tr>\n",
       "    <tr>\n",
       "      <th>12</th>\n",
       "      <th>12</th>\n",
       "      <td>358</td>\n",
       "    </tr>\n",
       "    <tr>\n",
       "      <th>0</th>\n",
       "      <th>0</th>\n",
       "      <td>358</td>\n",
       "    </tr>\n",
       "    <tr>\n",
       "      <th>11</th>\n",
       "      <th>11</th>\n",
       "      <td>2487</td>\n",
       "    </tr>\n",
       "    <tr>\n",
       "      <th>22</th>\n",
       "      <th>22</th>\n",
       "      <td>3180</td>\n",
       "    </tr>\n",
       "    <tr>\n",
       "      <th>7</th>\n",
       "      <th>7</th>\n",
       "      <td>75627</td>\n",
       "    </tr>\n",
       "  </tbody>\n",
       "</table>\n",
       "</div>\n",
       "    <div class=\"colab-df-buttons\">\n",
       "      \n",
       "  <div class=\"colab-df-container\">\n",
       "    <button class=\"colab-df-convert\" onclick=\"convertToInteractive('df-f9ff6dc0-3876-4d7c-9642-79c37e95f2e0')\"\n",
       "            title=\"Convert this dataframe to an interactive table.\"\n",
       "            style=\"display:none;\">\n",
       "      \n",
       "  <svg xmlns=\"http://www.w3.org/2000/svg\" height=\"24px\" viewBox=\"0 -960 960 960\">\n",
       "    <path d=\"M120-120v-720h720v720H120Zm60-500h600v-160H180v160Zm220 220h160v-160H400v160Zm0 220h160v-160H400v160ZM180-400h160v-160H180v160Zm440 0h160v-160H620v160ZM180-180h160v-160H180v160Zm440 0h160v-160H620v160Z\"/>\n",
       "  </svg>\n",
       "    </button>\n",
       "    \n",
       "  <style>\n",
       "    .colab-df-container {\n",
       "      display:flex;\n",
       "      gap: 12px;\n",
       "    }\n",
       "\n",
       "    .colab-df-convert {\n",
       "      background-color: #E8F0FE;\n",
       "      border: none;\n",
       "      border-radius: 50%;\n",
       "      cursor: pointer;\n",
       "      display: none;\n",
       "      fill: #1967D2;\n",
       "      height: 32px;\n",
       "      padding: 0 0 0 0;\n",
       "      width: 32px;\n",
       "    }\n",
       "\n",
       "    .colab-df-convert:hover {\n",
       "      background-color: #E2EBFA;\n",
       "      box-shadow: 0px 1px 2px rgba(60, 64, 67, 0.3), 0px 1px 3px 1px rgba(60, 64, 67, 0.15);\n",
       "      fill: #174EA6;\n",
       "    }\n",
       "\n",
       "    .colab-df-buttons div {\n",
       "      margin-bottom: 4px;\n",
       "    }\n",
       "\n",
       "    [theme=dark] .colab-df-convert {\n",
       "      background-color: #3B4455;\n",
       "      fill: #D2E3FC;\n",
       "    }\n",
       "\n",
       "    [theme=dark] .colab-df-convert:hover {\n",
       "      background-color: #434B5C;\n",
       "      box-shadow: 0px 1px 3px 1px rgba(0, 0, 0, 0.15);\n",
       "      filter: drop-shadow(0px 1px 2px rgba(0, 0, 0, 0.3));\n",
       "      fill: #FFFFFF;\n",
       "    }\n",
       "  </style>\n",
       "\n",
       "    <script>\n",
       "      const buttonEl =\n",
       "        document.querySelector('#df-f9ff6dc0-3876-4d7c-9642-79c37e95f2e0 button.colab-df-convert');\n",
       "      buttonEl.style.display =\n",
       "        google.colab.kernel.accessAllowed ? 'block' : 'none';\n",
       "\n",
       "      async function convertToInteractive(key) {\n",
       "        const element = document.querySelector('#df-f9ff6dc0-3876-4d7c-9642-79c37e95f2e0');\n",
       "        const dataTable =\n",
       "          await google.colab.kernel.invokeFunction('convertToInteractive',\n",
       "                                                    [key], {});\n",
       "        if (!dataTable) return;\n",
       "\n",
       "        const docLinkHtml = 'Like what you see? Visit the ' +\n",
       "          '<a target=\"_blank\" href=https://colab.research.google.com/notebooks/data_table.ipynb>data table notebook</a>'\n",
       "          + ' to learn more about interactive tables.';\n",
       "        element.innerHTML = '';\n",
       "        dataTable['output_type'] = 'display_data';\n",
       "        await google.colab.output.renderOutput(dataTable, element);\n",
       "        const docLink = document.createElement('div');\n",
       "        docLink.innerHTML = docLinkHtml;\n",
       "        element.appendChild(docLink);\n",
       "      }\n",
       "    </script>\n",
       "  </div>\n",
       "  \n",
       "    </div>\n",
       "  </div>\n",
       "  "
      ],
      "text/plain": [
       "                             count\n",
       "main_cat_size main_cat_size       \n",
       "8             8                  1\n",
       "155           155                1\n",
       "169           169                1\n",
       "20            20                 1\n",
       "14            14                 2\n",
       "190           190                3\n",
       "9             9                  3\n",
       "25            25                17\n",
       "24            24                17\n",
       "158           158               21\n",
       "168           168               24\n",
       "4             4                 41\n",
       "21            21                47\n",
       "17            17               182\n",
       "15            15               268\n",
       "23            23               308\n",
       "10            10               347\n",
       "12            12               358\n",
       "0             0                358\n",
       "11            11              2487\n",
       "22            22              3180\n",
       "7             7              75627"
      ]
     },
     "execution_count": 14,
     "metadata": {},
     "output_type": "execute_result"
    }
   ],
   "source": [
    "df['main_cat_size'] = df['main_cat'].str.len()\n",
    "df.groupby('main_cat_size')['main_cat_size'].value_counts().to_frame('count').sort_values('count')"
   ]
  },
  {
   "cell_type": "code",
   "execution_count": 15,
   "id": "60a84728-610e-4ceb-b54c-2a9c883ef0cc",
   "metadata": {
    "colab": {
     "base_uri": "https://localhost:8080/"
    },
    "executionInfo": {
     "elapsed": 3,
     "status": "ok",
     "timestamp": 1695093200792,
     "user": {
      "displayName": "",
      "userId": ""
     },
     "user_tz": 300
    },
    "id": "60a84728-610e-4ceb-b54c-2a9c883ef0cc",
    "outputId": "743aeb62-6ce3-4330-86eb-de786c93527b"
   },
   "outputs": [
    {
     "data": {
      "text/plain": [
       "category         408\n",
       "description      408\n",
       "title            408\n",
       "also_buy         408\n",
       "brand            408\n",
       "rank             408\n",
       "main_cat         408\n",
       "date             408\n",
       "price            408\n",
       "asin             408\n",
       "imageURL         408\n",
       "rank_len         408\n",
       "main_cat_size    408\n",
       "dtype: int64"
      ]
     },
     "execution_count": 15,
     "metadata": {},
     "output_type": "execute_result"
    }
   ],
   "source": [
    "\n",
    "Q1 = df['main_cat_size'].quantile(0.25)\n",
    "Q3 = df['main_cat_size'].quantile(0.75)\n",
    "IQR = Q3 - Q1\n",
    "\n",
    "# identify outliers\n",
    "threshold = 1.5\n",
    "outliers = df[(df['main_cat_size'] == 0) | (df['main_cat_size'] > 50)]\n",
    "\n",
    "outliers.count()\n"
   ]
  },
  {
   "cell_type": "code",
   "execution_count": 16,
   "id": "98dfd90c-4e52-47cb-91fe-4d712643f2dc",
   "metadata": {
    "executionInfo": {
     "elapsed": 3,
     "status": "ok",
     "timestamp": 1695093202390,
     "user": {
      "displayName": "",
      "userId": ""
     },
     "user_tz": 300
    },
    "id": "98dfd90c-4e52-47cb-91fe-4d712643f2dc"
   },
   "outputs": [],
   "source": [
    "outlier_index = outliers.index\n",
    "outlier_index\n",
    "\n",
    "type(outlier_index)\n",
    "\n",
    "\n",
    "df.loc[outlier_index,'main_cat'] = \"Grocery\""
   ]
  },
  {
   "cell_type": "code",
   "execution_count": 17,
   "id": "e228b20a-34fe-4d1c-9663-b055d30e7fc4",
   "metadata": {
    "colab": {
     "base_uri": "https://localhost:8080/",
     "height": 739
    },
    "executionInfo": {
     "elapsed": 280,
     "status": "ok",
     "timestamp": 1695093204629,
     "user": {
      "displayName": "",
      "userId": ""
     },
     "user_tz": 300
    },
    "id": "e228b20a-34fe-4d1c-9663-b055d30e7fc4",
    "outputId": "b2936184-a09e-43fd-a8df-a3bd58080929"
   },
   "outputs": [
    {
     "data": {
      "text/html": [
       "\n",
       "  <div id=\"df-a30bd8f5-fb64-485e-b3ff-66fbcfe3bf9c\" class=\"colab-df-container\">\n",
       "    <div>\n",
       "<style scoped>\n",
       "    .dataframe tbody tr th:only-of-type {\n",
       "        vertical-align: middle;\n",
       "    }\n",
       "\n",
       "    .dataframe tbody tr th {\n",
       "        vertical-align: top;\n",
       "    }\n",
       "\n",
       "    .dataframe thead th {\n",
       "        text-align: right;\n",
       "    }\n",
       "</style>\n",
       "<table border=\"1\" class=\"dataframe\">\n",
       "  <thead>\n",
       "    <tr style=\"text-align: right;\">\n",
       "      <th></th>\n",
       "      <th></th>\n",
       "      <th>count</th>\n",
       "    </tr>\n",
       "    <tr>\n",
       "      <th>main_cat</th>\n",
       "      <th>main_cat</th>\n",
       "      <th></th>\n",
       "    </tr>\n",
       "  </thead>\n",
       "  <tbody>\n",
       "    <tr>\n",
       "      <th>Grocery</th>\n",
       "      <th>Grocery</th>\n",
       "      <td>76035</td>\n",
       "    </tr>\n",
       "    <tr>\n",
       "      <th>Health &amp; Personal Care</th>\n",
       "      <th>Health &amp; Personal Care</th>\n",
       "      <td>3180</td>\n",
       "    </tr>\n",
       "    <tr>\n",
       "      <th>Amazon Home</th>\n",
       "      <th>Amazon Home</th>\n",
       "      <td>2486</td>\n",
       "    </tr>\n",
       "    <tr>\n",
       "      <th>All Beauty</th>\n",
       "      <th>All Beauty</th>\n",
       "      <td>345</td>\n",
       "    </tr>\n",
       "    <tr>\n",
       "      <th>Toys &amp; Games</th>\n",
       "      <th>Toys &amp; Games</th>\n",
       "      <td>330</td>\n",
       "    </tr>\n",
       "    <tr>\n",
       "      <th>Industrial &amp; Scientific</th>\n",
       "      <th>Industrial &amp; Scientific</th>\n",
       "      <td>308</td>\n",
       "    </tr>\n",
       "    <tr>\n",
       "      <th>Office Products</th>\n",
       "      <th>Office Products</th>\n",
       "      <td>260</td>\n",
       "    </tr>\n",
       "    <tr>\n",
       "      <th>Sports &amp; Outdoors</th>\n",
       "      <th>Sports &amp; Outdoors</th>\n",
       "      <td>182</td>\n",
       "    </tr>\n",
       "    <tr>\n",
       "      <th>Arts, Crafts &amp; Sewing</th>\n",
       "      <th>Arts, Crafts &amp; Sewing</th>\n",
       "      <td>47</td>\n",
       "    </tr>\n",
       "    <tr>\n",
       "      <th>Baby</th>\n",
       "      <th>Baby</th>\n",
       "      <td>41</td>\n",
       "    </tr>\n",
       "    <tr>\n",
       "      <th>Pet Supplies</th>\n",
       "      <th>Pet Supplies</th>\n",
       "      <td>28</td>\n",
       "    </tr>\n",
       "    <tr>\n",
       "      <th>Tools &amp; Home Improvement</th>\n",
       "      <th>Tools &amp; Home Improvement</th>\n",
       "      <td>17</td>\n",
       "    </tr>\n",
       "    <tr>\n",
       "      <th>Cell Phones &amp; Accessories</th>\n",
       "      <th>Cell Phones &amp; Accessories</th>\n",
       "      <td>17</td>\n",
       "    </tr>\n",
       "    <tr>\n",
       "      <th>All Electronics</th>\n",
       "      <th>All Electronics</th>\n",
       "      <td>7</td>\n",
       "    </tr>\n",
       "    <tr>\n",
       "      <th>Computers</th>\n",
       "      <th>Computers</th>\n",
       "      <td>3</td>\n",
       "    </tr>\n",
       "    <tr>\n",
       "      <th>Automotive</th>\n",
       "      <th>Automotive</th>\n",
       "      <td>2</td>\n",
       "    </tr>\n",
       "    <tr>\n",
       "      <th>Camera &amp; Photo</th>\n",
       "      <th>Camera &amp; Photo</th>\n",
       "      <td>2</td>\n",
       "    </tr>\n",
       "    <tr>\n",
       "      <th>Movies &amp; TV</th>\n",
       "      <th>Movies &amp; TV</th>\n",
       "      <td>1</td>\n",
       "    </tr>\n",
       "    <tr>\n",
       "      <th>Software</th>\n",
       "      <th>Software</th>\n",
       "      <td>1</td>\n",
       "    </tr>\n",
       "    <tr>\n",
       "      <th>Car Electronics</th>\n",
       "      <th>Car Electronics</th>\n",
       "      <td>1</td>\n",
       "    </tr>\n",
       "    <tr>\n",
       "      <th>Home Audio &amp; Theater</th>\n",
       "      <th>Home Audio &amp; Theater</th>\n",
       "      <td>1</td>\n",
       "    </tr>\n",
       "  </tbody>\n",
       "</table>\n",
       "</div>\n",
       "    <div class=\"colab-df-buttons\">\n",
       "      \n",
       "  <div class=\"colab-df-container\">\n",
       "    <button class=\"colab-df-convert\" onclick=\"convertToInteractive('df-a30bd8f5-fb64-485e-b3ff-66fbcfe3bf9c')\"\n",
       "            title=\"Convert this dataframe to an interactive table.\"\n",
       "            style=\"display:none;\">\n",
       "      \n",
       "  <svg xmlns=\"http://www.w3.org/2000/svg\" height=\"24px\" viewBox=\"0 -960 960 960\">\n",
       "    <path d=\"M120-120v-720h720v720H120Zm60-500h600v-160H180v160Zm220 220h160v-160H400v160Zm0 220h160v-160H400v160ZM180-400h160v-160H180v160Zm440 0h160v-160H620v160ZM180-180h160v-160H180v160Zm440 0h160v-160H620v160Z\"/>\n",
       "  </svg>\n",
       "    </button>\n",
       "    \n",
       "  <style>\n",
       "    .colab-df-container {\n",
       "      display:flex;\n",
       "      gap: 12px;\n",
       "    }\n",
       "\n",
       "    .colab-df-convert {\n",
       "      background-color: #E8F0FE;\n",
       "      border: none;\n",
       "      border-radius: 50%;\n",
       "      cursor: pointer;\n",
       "      display: none;\n",
       "      fill: #1967D2;\n",
       "      height: 32px;\n",
       "      padding: 0 0 0 0;\n",
       "      width: 32px;\n",
       "    }\n",
       "\n",
       "    .colab-df-convert:hover {\n",
       "      background-color: #E2EBFA;\n",
       "      box-shadow: 0px 1px 2px rgba(60, 64, 67, 0.3), 0px 1px 3px 1px rgba(60, 64, 67, 0.15);\n",
       "      fill: #174EA6;\n",
       "    }\n",
       "\n",
       "    .colab-df-buttons div {\n",
       "      margin-bottom: 4px;\n",
       "    }\n",
       "\n",
       "    [theme=dark] .colab-df-convert {\n",
       "      background-color: #3B4455;\n",
       "      fill: #D2E3FC;\n",
       "    }\n",
       "\n",
       "    [theme=dark] .colab-df-convert:hover {\n",
       "      background-color: #434B5C;\n",
       "      box-shadow: 0px 1px 3px 1px rgba(0, 0, 0, 0.15);\n",
       "      filter: drop-shadow(0px 1px 2px rgba(0, 0, 0, 0.3));\n",
       "      fill: #FFFFFF;\n",
       "    }\n",
       "  </style>\n",
       "\n",
       "    <script>\n",
       "      const buttonEl =\n",
       "        document.querySelector('#df-a30bd8f5-fb64-485e-b3ff-66fbcfe3bf9c button.colab-df-convert');\n",
       "      buttonEl.style.display =\n",
       "        google.colab.kernel.accessAllowed ? 'block' : 'none';\n",
       "\n",
       "      async function convertToInteractive(key) {\n",
       "        const element = document.querySelector('#df-a30bd8f5-fb64-485e-b3ff-66fbcfe3bf9c');\n",
       "        const dataTable =\n",
       "          await google.colab.kernel.invokeFunction('convertToInteractive',\n",
       "                                                    [key], {});\n",
       "        if (!dataTable) return;\n",
       "\n",
       "        const docLinkHtml = 'Like what you see? Visit the ' +\n",
       "          '<a target=\"_blank\" href=https://colab.research.google.com/notebooks/data_table.ipynb>data table notebook</a>'\n",
       "          + ' to learn more about interactive tables.';\n",
       "        element.innerHTML = '';\n",
       "        dataTable['output_type'] = 'display_data';\n",
       "        await google.colab.output.renderOutput(dataTable, element);\n",
       "        const docLink = document.createElement('div');\n",
       "        docLink.innerHTML = docLinkHtml;\n",
       "        element.appendChild(docLink);\n",
       "      }\n",
       "    </script>\n",
       "  </div>\n",
       "  \n",
       "    </div>\n",
       "  </div>\n",
       "  "
      ],
      "text/plain": [
       "                                                     count\n",
       "main_cat                  main_cat                        \n",
       "Grocery                   Grocery                    76035\n",
       "Health & Personal Care    Health & Personal Care      3180\n",
       "Amazon Home               Amazon Home                 2486\n",
       "All Beauty                All Beauty                   345\n",
       "Toys & Games              Toys & Games                 330\n",
       "Industrial & Scientific   Industrial & Scientific      308\n",
       "Office Products           Office Products              260\n",
       "Sports & Outdoors         Sports & Outdoors            182\n",
       "Arts, Crafts & Sewing     Arts, Crafts & Sewing         47\n",
       "Baby                      Baby                          41\n",
       "Pet Supplies              Pet Supplies                  28\n",
       "Tools & Home Improvement  Tools & Home Improvement      17\n",
       "Cell Phones & Accessories Cell Phones & Accessories     17\n",
       "All Electronics           All Electronics                7\n",
       "Computers                 Computers                      3\n",
       "Automotive                Automotive                     2\n",
       "Camera & Photo            Camera & Photo                 2\n",
       "Movies & TV               Movies & TV                    1\n",
       "Software                  Software                       1\n",
       "Car Electronics           Car Electronics                1\n",
       "Home Audio & Theater      Home Audio & Theater           1"
      ]
     },
     "execution_count": 17,
     "metadata": {},
     "output_type": "execute_result"
    }
   ],
   "source": [
    "df.groupby(\"main_cat\")[\"main_cat\"].value_counts().to_frame('count').sort_values('count',ascending=False)"
   ]
  },
  {
   "cell_type": "markdown",
   "id": "6IExIotMeND-",
   "metadata": {
    "id": "6IExIotMeND-"
   },
   "source": [
    "### Rank values"
   ]
  },
  {
   "cell_type": "markdown",
   "id": "bdc8ff5c-8b7d-45cf-a72c-159e9bcf1c3e",
   "metadata": {
    "id": "bdc8ff5c-8b7d-45cf-a72c-159e9bcf1c3e"
   },
   "source": [
    "*Normalizing the rank through min-max scaling*\n",
    "\n",
    "- Here I found there were some incorrect/missing values which I replaced with the median value"
   ]
  },
  {
   "cell_type": "code",
   "execution_count": 18,
   "id": "59359514-4c77-4104-b41d-63b867ace58b",
   "metadata": {
    "executionInfo": {
     "elapsed": 822,
     "status": "ok",
     "timestamp": 1695093207648,
     "user": {
      "displayName": "",
      "userId": ""
     },
     "user_tz": 300
    },
    "id": "59359514-4c77-4104-b41d-63b867ace58b"
   },
   "outputs": [],
   "source": [
    "df[['rank_num','rank_cat']] = df['rank'].str.split(\" in \", expand = True)"
   ]
  },
  {
   "cell_type": "code",
   "execution_count": 19,
   "id": "a5a23000-8f14-493a-8309-8896e5efd4e4",
   "metadata": {
    "executionInfo": {
     "elapsed": 340,
     "status": "ok",
     "timestamp": 1695093208873,
     "user": {
      "displayName": "",
      "userId": ""
     },
     "user_tz": 300
    },
    "id": "a5a23000-8f14-493a-8309-8896e5efd4e4"
   },
   "outputs": [],
   "source": [
    "df['rank_num'] = df['rank_num'].str.replace(',', '').astype(float)"
   ]
  },
  {
   "cell_type": "code",
   "execution_count": 20,
   "id": "fb3ceb6c-1cd3-452e-8d6b-c2600cd51ff3",
   "metadata": {
    "colab": {
     "base_uri": "https://localhost:8080/",
     "height": 551
    },
    "executionInfo": {
     "elapsed": 151,
     "status": "ok",
     "timestamp": 1695093209841,
     "user": {
      "displayName": "",
      "userId": ""
     },
     "user_tz": 300
    },
    "id": "fb3ceb6c-1cd3-452e-8d6b-c2600cd51ff3",
    "outputId": "33aaedb3-d828-4681-d357-e4cdb9010f51",
    "scrolled": true
   },
   "outputs": [
    {
     "data": {
      "text/html": [
       "\n",
       "  <div id=\"df-1a709339-0601-4b4f-a65c-fcee3ab16ea6\" class=\"colab-df-container\">\n",
       "    <div>\n",
       "<style scoped>\n",
       "    .dataframe tbody tr th:only-of-type {\n",
       "        vertical-align: middle;\n",
       "    }\n",
       "\n",
       "    .dataframe tbody tr th {\n",
       "        vertical-align: top;\n",
       "    }\n",
       "\n",
       "    .dataframe thead th {\n",
       "        text-align: right;\n",
       "    }\n",
       "</style>\n",
       "<table border=\"1\" class=\"dataframe\">\n",
       "  <thead>\n",
       "    <tr style=\"text-align: right;\">\n",
       "      <th></th>\n",
       "      <th>min</th>\n",
       "      <th>max</th>\n",
       "      <th>count</th>\n",
       "    </tr>\n",
       "    <tr>\n",
       "      <th>rank_cat</th>\n",
       "      <th></th>\n",
       "      <th></th>\n",
       "      <th></th>\n",
       "    </tr>\n",
       "  </thead>\n",
       "  <tbody>\n",
       "    <tr>\n",
       "      <th>Amazon Launchpad (</th>\n",
       "      <td>4631.0</td>\n",
       "      <td>4631.0</td>\n",
       "      <td>1</td>\n",
       "    </tr>\n",
       "    <tr>\n",
       "      <th>Baby (</th>\n",
       "      <td>197373.0</td>\n",
       "      <td>197373.0</td>\n",
       "      <td>1</td>\n",
       "    </tr>\n",
       "    <tr>\n",
       "      <th>Beauty &amp; Personal Care (</th>\n",
       "      <td>8566.0</td>\n",
       "      <td>2619012.0</td>\n",
       "      <td>300</td>\n",
       "    </tr>\n",
       "    <tr>\n",
       "      <th>CDs &amp; Vinyl (</th>\n",
       "      <td>446205.0</td>\n",
       "      <td>446205.0</td>\n",
       "      <td>1</td>\n",
       "    </tr>\n",
       "    <tr>\n",
       "      <th>Clothing, Shoes &amp; Jewelry (</th>\n",
       "      <td>173111.0</td>\n",
       "      <td>173111.0</td>\n",
       "      <td>1</td>\n",
       "    </tr>\n",
       "    <tr>\n",
       "      <th>Grocery &amp; Gourmet Food (</th>\n",
       "      <td>4.0</td>\n",
       "      <td>1506205.0</td>\n",
       "      <td>70020</td>\n",
       "    </tr>\n",
       "    <tr>\n",
       "      <th>Health &amp; Household (</th>\n",
       "      <td>180.0</td>\n",
       "      <td>2397987.0</td>\n",
       "      <td>3138</td>\n",
       "    </tr>\n",
       "    <tr>\n",
       "      <th>Industrial &amp; Scientific (</th>\n",
       "      <td>403.0</td>\n",
       "      <td>604042.0</td>\n",
       "      <td>230</td>\n",
       "    </tr>\n",
       "    <tr>\n",
       "      <th>Movies &amp; TV (</th>\n",
       "      <td>192506.0</td>\n",
       "      <td>192506.0</td>\n",
       "      <td>1</td>\n",
       "    </tr>\n",
       "    <tr>\n",
       "      <th>Office Products (</th>\n",
       "      <td>2000.0</td>\n",
       "      <td>565303.0</td>\n",
       "      <td>18</td>\n",
       "    </tr>\n",
       "    <tr>\n",
       "      <th>Pet Supplies (</th>\n",
       "      <td>3761.0</td>\n",
       "      <td>515900.0</td>\n",
       "      <td>27</td>\n",
       "    </tr>\n",
       "    <tr>\n",
       "      <th>Software (</th>\n",
       "      <td>2890.0</td>\n",
       "      <td>2890.0</td>\n",
       "      <td>1</td>\n",
       "    </tr>\n",
       "    <tr>\n",
       "      <th>Sports &amp; Outdoors (</th>\n",
       "      <td>2327.0</td>\n",
       "      <td>1357245.0</td>\n",
       "      <td>174</td>\n",
       "    </tr>\n",
       "    <tr>\n",
       "      <th>Tools &amp; Home Improvement (</th>\n",
       "      <td>75298.0</td>\n",
       "      <td>104219.0</td>\n",
       "      <td>2</td>\n",
       "    </tr>\n",
       "    <tr>\n",
       "      <th>Toys &amp; Games (</th>\n",
       "      <td>5910.0</td>\n",
       "      <td>469994.0</td>\n",
       "      <td>10</td>\n",
       "    </tr>\n",
       "  </tbody>\n",
       "</table>\n",
       "</div>\n",
       "    <div class=\"colab-df-buttons\">\n",
       "      \n",
       "  <div class=\"colab-df-container\">\n",
       "    <button class=\"colab-df-convert\" onclick=\"convertToInteractive('df-1a709339-0601-4b4f-a65c-fcee3ab16ea6')\"\n",
       "            title=\"Convert this dataframe to an interactive table.\"\n",
       "            style=\"display:none;\">\n",
       "      \n",
       "  <svg xmlns=\"http://www.w3.org/2000/svg\" height=\"24px\" viewBox=\"0 -960 960 960\">\n",
       "    <path d=\"M120-120v-720h720v720H120Zm60-500h600v-160H180v160Zm220 220h160v-160H400v160Zm0 220h160v-160H400v160ZM180-400h160v-160H180v160Zm440 0h160v-160H620v160ZM180-180h160v-160H180v160Zm440 0h160v-160H620v160Z\"/>\n",
       "  </svg>\n",
       "    </button>\n",
       "    \n",
       "  <style>\n",
       "    .colab-df-container {\n",
       "      display:flex;\n",
       "      gap: 12px;\n",
       "    }\n",
       "\n",
       "    .colab-df-convert {\n",
       "      background-color: #E8F0FE;\n",
       "      border: none;\n",
       "      border-radius: 50%;\n",
       "      cursor: pointer;\n",
       "      display: none;\n",
       "      fill: #1967D2;\n",
       "      height: 32px;\n",
       "      padding: 0 0 0 0;\n",
       "      width: 32px;\n",
       "    }\n",
       "\n",
       "    .colab-df-convert:hover {\n",
       "      background-color: #E2EBFA;\n",
       "      box-shadow: 0px 1px 2px rgba(60, 64, 67, 0.3), 0px 1px 3px 1px rgba(60, 64, 67, 0.15);\n",
       "      fill: #174EA6;\n",
       "    }\n",
       "\n",
       "    .colab-df-buttons div {\n",
       "      margin-bottom: 4px;\n",
       "    }\n",
       "\n",
       "    [theme=dark] .colab-df-convert {\n",
       "      background-color: #3B4455;\n",
       "      fill: #D2E3FC;\n",
       "    }\n",
       "\n",
       "    [theme=dark] .colab-df-convert:hover {\n",
       "      background-color: #434B5C;\n",
       "      box-shadow: 0px 1px 3px 1px rgba(0, 0, 0, 0.15);\n",
       "      filter: drop-shadow(0px 1px 2px rgba(0, 0, 0, 0.3));\n",
       "      fill: #FFFFFF;\n",
       "    }\n",
       "  </style>\n",
       "\n",
       "    <script>\n",
       "      const buttonEl =\n",
       "        document.querySelector('#df-1a709339-0601-4b4f-a65c-fcee3ab16ea6 button.colab-df-convert');\n",
       "      buttonEl.style.display =\n",
       "        google.colab.kernel.accessAllowed ? 'block' : 'none';\n",
       "\n",
       "      async function convertToInteractive(key) {\n",
       "        const element = document.querySelector('#df-1a709339-0601-4b4f-a65c-fcee3ab16ea6');\n",
       "        const dataTable =\n",
       "          await google.colab.kernel.invokeFunction('convertToInteractive',\n",
       "                                                    [key], {});\n",
       "        if (!dataTable) return;\n",
       "\n",
       "        const docLinkHtml = 'Like what you see? Visit the ' +\n",
       "          '<a target=\"_blank\" href=https://colab.research.google.com/notebooks/data_table.ipynb>data table notebook</a>'\n",
       "          + ' to learn more about interactive tables.';\n",
       "        element.innerHTML = '';\n",
       "        dataTable['output_type'] = 'display_data';\n",
       "        await google.colab.output.renderOutput(dataTable, element);\n",
       "        const docLink = document.createElement('div');\n",
       "        docLink.innerHTML = docLinkHtml;\n",
       "        element.appendChild(docLink);\n",
       "      }\n",
       "    </script>\n",
       "  </div>\n",
       "  \n",
       "    </div>\n",
       "  </div>\n",
       "  "
      ],
      "text/plain": [
       "                                  min        max  count\n",
       "rank_cat                                               \n",
       "Amazon Launchpad (             4631.0     4631.0      1\n",
       "Baby (                       197373.0   197373.0      1\n",
       "Beauty & Personal Care (       8566.0  2619012.0    300\n",
       "CDs & Vinyl (                446205.0   446205.0      1\n",
       "Clothing, Shoes & Jewelry (  173111.0   173111.0      1\n",
       "Grocery & Gourmet Food (          4.0  1506205.0  70020\n",
       "Health & Household (            180.0  2397987.0   3138\n",
       "Industrial & Scientific (       403.0   604042.0    230\n",
       "Movies & TV (                192506.0   192506.0      1\n",
       "Office Products (              2000.0   565303.0     18\n",
       "Pet Supplies (                 3761.0   515900.0     27\n",
       "Software (                     2890.0     2890.0      1\n",
       "Sports & Outdoors (            2327.0  1357245.0    174\n",
       "Tools & Home Improvement (    75298.0   104219.0      2\n",
       "Toys & Games (                 5910.0   469994.0     10"
      ]
     },
     "execution_count": 20,
     "metadata": {},
     "output_type": "execute_result"
    }
   ],
   "source": [
    "df.groupby('rank_cat')['rank_num'].aggregate(['min','max','count'])"
   ]
  },
  {
   "cell_type": "code",
   "execution_count": 21,
   "id": "e5f205ab-9540-4e81-bba6-ca853591fcff",
   "metadata": {
    "executionInfo": {
     "elapsed": 2,
     "status": "ok",
     "timestamp": 1695093210660,
     "user": {
      "displayName": "",
      "userId": ""
     },
     "user_tz": 300
    },
    "id": "e5f205ab-9540-4e81-bba6-ca853591fcff"
   },
   "outputs": [],
   "source": [
    "df['rank_size'] = df['rank'].str.len()"
   ]
  },
  {
   "cell_type": "code",
   "execution_count": 22,
   "id": "fb6c3631-09bb-4c89-bded-231be90ac418",
   "metadata": {
    "colab": {
     "base_uri": "https://localhost:8080/"
    },
    "executionInfo": {
     "elapsed": 4,
     "status": "ok",
     "timestamp": 1695093211461,
     "user": {
      "displayName": "",
      "userId": ""
     },
     "user_tz": 300
    },
    "id": "fb6c3631-09bb-4c89-bded-231be90ac418",
    "outputId": "736b3a97-5b7d-49a9-a4f5-4aed85d57da6"
   },
   "outputs": [
    {
     "data": {
      "text/plain": [
       "Int64Index([   16,    17,    19,    20,    32,    33,    34,    36,    38,\n",
       "               50,\n",
       "            ...\n",
       "            83121, 83187, 83202, 83204, 83205, 83206, 83207, 83231, 83280,\n",
       "            83282],\n",
       "           dtype='int64', length=3626)"
      ]
     },
     "execution_count": 22,
     "metadata": {},
     "output_type": "execute_result"
    }
   ],
   "source": [
    "rank_blank_index = df.query(\"rank_size == 0\").index\n",
    "rank_blank_index\n",
    "rank_non_in_index = df.query(\"rank_size > 0  and rank_size < 6\").index\n",
    "rank_non_in_index"
   ]
  },
  {
   "cell_type": "code",
   "execution_count": 23,
   "id": "10c00630-b38c-4c61-82e6-432eb49e9220",
   "metadata": {
    "colab": {
     "base_uri": "https://localhost:8080/"
    },
    "executionInfo": {
     "elapsed": 5,
     "status": "ok",
     "timestamp": 1695093212385,
     "user": {
      "displayName": "",
      "userId": ""
     },
     "user_tz": 300
    },
    "id": "10c00630-b38c-4c61-82e6-432eb49e9220",
    "outputId": "2446da38-1e62-4c72-a3b9-49c2f765565d"
   },
   "outputs": [
    {
     "data": {
      "text/plain": [
       "145218.0"
      ]
     },
     "execution_count": 23,
     "metadata": {},
     "output_type": "execute_result"
    }
   ],
   "source": [
    "rank_median = df[\"rank_num\"].median()\n",
    "rank_median"
   ]
  },
  {
   "cell_type": "code",
   "execution_count": 24,
   "id": "ef66857d-06c1-4b54-a8e7-830fced88222",
   "metadata": {
    "executionInfo": {
     "elapsed": 7,
     "status": "ok",
     "timestamp": 1695093213799,
     "user": {
      "displayName": "",
      "userId": ""
     },
     "user_tz": 300
    },
    "id": "ef66857d-06c1-4b54-a8e7-830fced88222"
   },
   "outputs": [],
   "source": [
    "df.loc[rank_blank_index,'rank_num'] = rank_median\n",
    "df.loc[rank_non_in_index,'rank_num'] = rank_median"
   ]
  },
  {
   "cell_type": "code",
   "execution_count": 25,
   "id": "726a09a9-a8c6-4369-92b5-ee2cf24dc18a",
   "metadata": {
    "colab": {
     "base_uri": "https://localhost:8080/",
     "height": 739
    },
    "executionInfo": {
     "elapsed": 8,
     "status": "ok",
     "timestamp": 1695093214523,
     "user": {
      "displayName": "",
      "userId": ""
     },
     "user_tz": 300
    },
    "id": "726a09a9-a8c6-4369-92b5-ee2cf24dc18a",
    "outputId": "d709b995-31e6-4e6b-bef7-d672c21088c4"
   },
   "outputs": [
    {
     "data": {
      "text/html": [
       "\n",
       "  <div id=\"df-6f945417-503b-4b7b-b20e-20624c7170a1\" class=\"colab-df-container\">\n",
       "    <div>\n",
       "<style scoped>\n",
       "    .dataframe tbody tr th:only-of-type {\n",
       "        vertical-align: middle;\n",
       "    }\n",
       "\n",
       "    .dataframe tbody tr th {\n",
       "        vertical-align: top;\n",
       "    }\n",
       "\n",
       "    .dataframe thead th {\n",
       "        text-align: right;\n",
       "    }\n",
       "</style>\n",
       "<table border=\"1\" class=\"dataframe\">\n",
       "  <thead>\n",
       "    <tr style=\"text-align: right;\">\n",
       "      <th></th>\n",
       "      <th>min</th>\n",
       "      <th>max</th>\n",
       "      <th>count</th>\n",
       "    </tr>\n",
       "    <tr>\n",
       "      <th>main_cat</th>\n",
       "      <th></th>\n",
       "      <th></th>\n",
       "      <th></th>\n",
       "    </tr>\n",
       "  </thead>\n",
       "  <tbody>\n",
       "    <tr>\n",
       "      <th>All Beauty</th>\n",
       "      <td>8566.0</td>\n",
       "      <td>2619012.0</td>\n",
       "      <td>345</td>\n",
       "    </tr>\n",
       "    <tr>\n",
       "      <th>All Electronics</th>\n",
       "      <td>145218.0</td>\n",
       "      <td>145218.0</td>\n",
       "      <td>7</td>\n",
       "    </tr>\n",
       "    <tr>\n",
       "      <th>Amazon Home</th>\n",
       "      <td>1468.0</td>\n",
       "      <td>485683.0</td>\n",
       "      <td>2486</td>\n",
       "    </tr>\n",
       "    <tr>\n",
       "      <th>Arts, Crafts &amp; Sewing</th>\n",
       "      <td>145218.0</td>\n",
       "      <td>145218.0</td>\n",
       "      <td>47</td>\n",
       "    </tr>\n",
       "    <tr>\n",
       "      <th>Automotive</th>\n",
       "      <td>145218.0</td>\n",
       "      <td>145218.0</td>\n",
       "      <td>2</td>\n",
       "    </tr>\n",
       "    <tr>\n",
       "      <th>Baby</th>\n",
       "      <td>145218.0</td>\n",
       "      <td>145218.0</td>\n",
       "      <td>41</td>\n",
       "    </tr>\n",
       "    <tr>\n",
       "      <th>Camera &amp; Photo</th>\n",
       "      <td>145218.0</td>\n",
       "      <td>145218.0</td>\n",
       "      <td>2</td>\n",
       "    </tr>\n",
       "    <tr>\n",
       "      <th>Car Electronics</th>\n",
       "      <td>145218.0</td>\n",
       "      <td>145218.0</td>\n",
       "      <td>1</td>\n",
       "    </tr>\n",
       "    <tr>\n",
       "      <th>Cell Phones &amp; Accessories</th>\n",
       "      <td>111748.0</td>\n",
       "      <td>145218.0</td>\n",
       "      <td>17</td>\n",
       "    </tr>\n",
       "    <tr>\n",
       "      <th>Computers</th>\n",
       "      <td>145218.0</td>\n",
       "      <td>145218.0</td>\n",
       "      <td>3</td>\n",
       "    </tr>\n",
       "    <tr>\n",
       "      <th>Grocery</th>\n",
       "      <td>4.0</td>\n",
       "      <td>1506205.0</td>\n",
       "      <td>76035</td>\n",
       "    </tr>\n",
       "    <tr>\n",
       "      <th>Health &amp; Personal Care</th>\n",
       "      <td>180.0</td>\n",
       "      <td>2397987.0</td>\n",
       "      <td>3180</td>\n",
       "    </tr>\n",
       "    <tr>\n",
       "      <th>Home Audio &amp; Theater</th>\n",
       "      <td>145218.0</td>\n",
       "      <td>145218.0</td>\n",
       "      <td>1</td>\n",
       "    </tr>\n",
       "    <tr>\n",
       "      <th>Industrial &amp; Scientific</th>\n",
       "      <td>403.0</td>\n",
       "      <td>1028563.0</td>\n",
       "      <td>308</td>\n",
       "    </tr>\n",
       "    <tr>\n",
       "      <th>Movies &amp; TV</th>\n",
       "      <td>192506.0</td>\n",
       "      <td>192506.0</td>\n",
       "      <td>1</td>\n",
       "    </tr>\n",
       "    <tr>\n",
       "      <th>Office Products</th>\n",
       "      <td>2000.0</td>\n",
       "      <td>565303.0</td>\n",
       "      <td>260</td>\n",
       "    </tr>\n",
       "    <tr>\n",
       "      <th>Pet Supplies</th>\n",
       "      <td>3761.0</td>\n",
       "      <td>515900.0</td>\n",
       "      <td>28</td>\n",
       "    </tr>\n",
       "    <tr>\n",
       "      <th>Software</th>\n",
       "      <td>2890.0</td>\n",
       "      <td>2890.0</td>\n",
       "      <td>1</td>\n",
       "    </tr>\n",
       "    <tr>\n",
       "      <th>Sports &amp; Outdoors</th>\n",
       "      <td>2723.0</td>\n",
       "      <td>1357245.0</td>\n",
       "      <td>182</td>\n",
       "    </tr>\n",
       "    <tr>\n",
       "      <th>Tools &amp; Home Improvement</th>\n",
       "      <td>75298.0</td>\n",
       "      <td>145218.0</td>\n",
       "      <td>17</td>\n",
       "    </tr>\n",
       "    <tr>\n",
       "      <th>Toys &amp; Games</th>\n",
       "      <td>5910.0</td>\n",
       "      <td>469994.0</td>\n",
       "      <td>330</td>\n",
       "    </tr>\n",
       "  </tbody>\n",
       "</table>\n",
       "</div>\n",
       "    <div class=\"colab-df-buttons\">\n",
       "      \n",
       "  <div class=\"colab-df-container\">\n",
       "    <button class=\"colab-df-convert\" onclick=\"convertToInteractive('df-6f945417-503b-4b7b-b20e-20624c7170a1')\"\n",
       "            title=\"Convert this dataframe to an interactive table.\"\n",
       "            style=\"display:none;\">\n",
       "      \n",
       "  <svg xmlns=\"http://www.w3.org/2000/svg\" height=\"24px\" viewBox=\"0 -960 960 960\">\n",
       "    <path d=\"M120-120v-720h720v720H120Zm60-500h600v-160H180v160Zm220 220h160v-160H400v160Zm0 220h160v-160H400v160ZM180-400h160v-160H180v160Zm440 0h160v-160H620v160ZM180-180h160v-160H180v160Zm440 0h160v-160H620v160Z\"/>\n",
       "  </svg>\n",
       "    </button>\n",
       "    \n",
       "  <style>\n",
       "    .colab-df-container {\n",
       "      display:flex;\n",
       "      gap: 12px;\n",
       "    }\n",
       "\n",
       "    .colab-df-convert {\n",
       "      background-color: #E8F0FE;\n",
       "      border: none;\n",
       "      border-radius: 50%;\n",
       "      cursor: pointer;\n",
       "      display: none;\n",
       "      fill: #1967D2;\n",
       "      height: 32px;\n",
       "      padding: 0 0 0 0;\n",
       "      width: 32px;\n",
       "    }\n",
       "\n",
       "    .colab-df-convert:hover {\n",
       "      background-color: #E2EBFA;\n",
       "      box-shadow: 0px 1px 2px rgba(60, 64, 67, 0.3), 0px 1px 3px 1px rgba(60, 64, 67, 0.15);\n",
       "      fill: #174EA6;\n",
       "    }\n",
       "\n",
       "    .colab-df-buttons div {\n",
       "      margin-bottom: 4px;\n",
       "    }\n",
       "\n",
       "    [theme=dark] .colab-df-convert {\n",
       "      background-color: #3B4455;\n",
       "      fill: #D2E3FC;\n",
       "    }\n",
       "\n",
       "    [theme=dark] .colab-df-convert:hover {\n",
       "      background-color: #434B5C;\n",
       "      box-shadow: 0px 1px 3px 1px rgba(0, 0, 0, 0.15);\n",
       "      filter: drop-shadow(0px 1px 2px rgba(0, 0, 0, 0.3));\n",
       "      fill: #FFFFFF;\n",
       "    }\n",
       "  </style>\n",
       "\n",
       "    <script>\n",
       "      const buttonEl =\n",
       "        document.querySelector('#df-6f945417-503b-4b7b-b20e-20624c7170a1 button.colab-df-convert');\n",
       "      buttonEl.style.display =\n",
       "        google.colab.kernel.accessAllowed ? 'block' : 'none';\n",
       "\n",
       "      async function convertToInteractive(key) {\n",
       "        const element = document.querySelector('#df-6f945417-503b-4b7b-b20e-20624c7170a1');\n",
       "        const dataTable =\n",
       "          await google.colab.kernel.invokeFunction('convertToInteractive',\n",
       "                                                    [key], {});\n",
       "        if (!dataTable) return;\n",
       "\n",
       "        const docLinkHtml = 'Like what you see? Visit the ' +\n",
       "          '<a target=\"_blank\" href=https://colab.research.google.com/notebooks/data_table.ipynb>data table notebook</a>'\n",
       "          + ' to learn more about interactive tables.';\n",
       "        element.innerHTML = '';\n",
       "        dataTable['output_type'] = 'display_data';\n",
       "        await google.colab.output.renderOutput(dataTable, element);\n",
       "        const docLink = document.createElement('div');\n",
       "        docLink.innerHTML = docLinkHtml;\n",
       "        element.appendChild(docLink);\n",
       "      }\n",
       "    </script>\n",
       "  </div>\n",
       "  \n",
       "    </div>\n",
       "  </div>\n",
       "  "
      ],
      "text/plain": [
       "                                min        max  count\n",
       "main_cat                                             \n",
       "All Beauty                   8566.0  2619012.0    345\n",
       "All Electronics            145218.0   145218.0      7\n",
       "Amazon Home                  1468.0   485683.0   2486\n",
       "Arts, Crafts & Sewing      145218.0   145218.0     47\n",
       "Automotive                 145218.0   145218.0      2\n",
       "Baby                       145218.0   145218.0     41\n",
       "Camera & Photo             145218.0   145218.0      2\n",
       "Car Electronics            145218.0   145218.0      1\n",
       "Cell Phones & Accessories  111748.0   145218.0     17\n",
       "Computers                  145218.0   145218.0      3\n",
       "Grocery                         4.0  1506205.0  76035\n",
       "Health & Personal Care        180.0  2397987.0   3180\n",
       "Home Audio & Theater       145218.0   145218.0      1\n",
       "Industrial & Scientific       403.0  1028563.0    308\n",
       "Movies & TV                192506.0   192506.0      1\n",
       "Office Products              2000.0   565303.0    260\n",
       "Pet Supplies                 3761.0   515900.0     28\n",
       "Software                     2890.0     2890.0      1\n",
       "Sports & Outdoors            2723.0  1357245.0    182\n",
       "Tools & Home Improvement    75298.0   145218.0     17\n",
       "Toys & Games                 5910.0   469994.0    330"
      ]
     },
     "execution_count": 25,
     "metadata": {},
     "output_type": "execute_result"
    }
   ],
   "source": [
    "df.groupby('main_cat')['rank_num'].aggregate(['min','max','count'])"
   ]
  },
  {
   "cell_type": "markdown",
   "id": "2b70d4b6-61b3-480a-8be7-73bb8ef321a1",
   "metadata": {
    "id": "2b70d4b6-61b3-480a-8be7-73bb8ef321a1"
   },
   "source": [
    "- Normalizing the rank with min-max scaling"
   ]
  },
  {
   "cell_type": "code",
   "execution_count": 26,
   "id": "81c8bfa3-f8ba-48d3-abbd-f9d02f505802",
   "metadata": {
    "executionInfo": {
     "elapsed": 3,
     "status": "ok",
     "timestamp": 1695093216075,
     "user": {
      "displayName": "",
      "userId": ""
     },
     "user_tz": 300
    },
    "id": "81c8bfa3-f8ba-48d3-abbd-f9d02f505802"
   },
   "outputs": [],
   "source": [
    "grouper = df.groupby('main_cat')['rank_num']\n",
    "maxes = grouper.transform('max')\n",
    "mins = grouper.transform('min')"
   ]
  },
  {
   "cell_type": "code",
   "execution_count": 27,
   "id": "d90d2bba-b579-4725-a356-200bf7eb6b72",
   "metadata": {
    "executionInfo": {
     "elapsed": 5,
     "status": "ok",
     "timestamp": 1695093217001,
     "user": {
      "displayName": "",
      "userId": ""
     },
     "user_tz": 300
    },
    "id": "d90d2bba-b579-4725-a356-200bf7eb6b72"
   },
   "outputs": [],
   "source": [
    "maxes[maxes==mins] = mins[maxes==mins]+1"
   ]
  },
  {
   "cell_type": "code",
   "execution_count": 28,
   "id": "b55421bc-fd55-4d0b-b141-60154013a675",
   "metadata": {
    "colab": {
     "base_uri": "https://localhost:8080/"
    },
    "executionInfo": {
     "elapsed": 4,
     "status": "ok",
     "timestamp": 1695093218052,
     "user": {
      "displayName": "",
      "userId": ""
     },
     "user_tz": 300
    },
    "id": "b55421bc-fd55-4d0b-b141-60154013a675",
    "outputId": "69524324-f598-4127-91cb-05a2cd8fcd90"
   },
   "outputs": [
    {
     "data": {
      "text/plain": [
       "83294"
      ]
     },
     "execution_count": 28,
     "metadata": {},
     "output_type": "execute_result"
    }
   ],
   "source": [
    "df = df.assign(norm_rank= (1 - (df.rank_num - mins)/(maxes - mins)))\n",
    "df['norm_rank'].count()"
   ]
  },
  {
   "cell_type": "code",
   "execution_count": 29,
   "id": "c802a534-8996-4b3b-86a3-6e2458d1bbb1",
   "metadata": {
    "colab": {
     "base_uri": "https://localhost:8080/",
     "height": 739
    },
    "executionInfo": {
     "elapsed": 177,
     "status": "ok",
     "timestamp": 1695093218952,
     "user": {
      "displayName": "",
      "userId": ""
     },
     "user_tz": 300
    },
    "id": "c802a534-8996-4b3b-86a3-6e2458d1bbb1",
    "outputId": "7cf2804b-473e-47b0-bc41-d69ed3d19ace",
    "scrolled": true
   },
   "outputs": [
    {
     "data": {
      "text/html": [
       "\n",
       "  <div id=\"df-eee453d5-ab8a-4324-8d9f-173481faa9d5\" class=\"colab-df-container\">\n",
       "    <div>\n",
       "<style scoped>\n",
       "    .dataframe tbody tr th:only-of-type {\n",
       "        vertical-align: middle;\n",
       "    }\n",
       "\n",
       "    .dataframe tbody tr th {\n",
       "        vertical-align: top;\n",
       "    }\n",
       "\n",
       "    .dataframe thead th {\n",
       "        text-align: right;\n",
       "    }\n",
       "</style>\n",
       "<table border=\"1\" class=\"dataframe\">\n",
       "  <thead>\n",
       "    <tr style=\"text-align: right;\">\n",
       "      <th></th>\n",
       "      <th>min</th>\n",
       "      <th>max</th>\n",
       "      <th>count</th>\n",
       "    </tr>\n",
       "    <tr>\n",
       "      <th>main_cat</th>\n",
       "      <th></th>\n",
       "      <th></th>\n",
       "      <th></th>\n",
       "    </tr>\n",
       "  </thead>\n",
       "  <tbody>\n",
       "    <tr>\n",
       "      <th>All Beauty</th>\n",
       "      <td>0.0</td>\n",
       "      <td>1.0</td>\n",
       "      <td>345</td>\n",
       "    </tr>\n",
       "    <tr>\n",
       "      <th>All Electronics</th>\n",
       "      <td>1.0</td>\n",
       "      <td>1.0</td>\n",
       "      <td>7</td>\n",
       "    </tr>\n",
       "    <tr>\n",
       "      <th>Amazon Home</th>\n",
       "      <td>0.0</td>\n",
       "      <td>1.0</td>\n",
       "      <td>2486</td>\n",
       "    </tr>\n",
       "    <tr>\n",
       "      <th>Arts, Crafts &amp; Sewing</th>\n",
       "      <td>1.0</td>\n",
       "      <td>1.0</td>\n",
       "      <td>47</td>\n",
       "    </tr>\n",
       "    <tr>\n",
       "      <th>Automotive</th>\n",
       "      <td>1.0</td>\n",
       "      <td>1.0</td>\n",
       "      <td>2</td>\n",
       "    </tr>\n",
       "    <tr>\n",
       "      <th>Baby</th>\n",
       "      <td>1.0</td>\n",
       "      <td>1.0</td>\n",
       "      <td>41</td>\n",
       "    </tr>\n",
       "    <tr>\n",
       "      <th>Camera &amp; Photo</th>\n",
       "      <td>1.0</td>\n",
       "      <td>1.0</td>\n",
       "      <td>2</td>\n",
       "    </tr>\n",
       "    <tr>\n",
       "      <th>Car Electronics</th>\n",
       "      <td>1.0</td>\n",
       "      <td>1.0</td>\n",
       "      <td>1</td>\n",
       "    </tr>\n",
       "    <tr>\n",
       "      <th>Cell Phones &amp; Accessories</th>\n",
       "      <td>0.0</td>\n",
       "      <td>1.0</td>\n",
       "      <td>17</td>\n",
       "    </tr>\n",
       "    <tr>\n",
       "      <th>Computers</th>\n",
       "      <td>1.0</td>\n",
       "      <td>1.0</td>\n",
       "      <td>3</td>\n",
       "    </tr>\n",
       "    <tr>\n",
       "      <th>Grocery</th>\n",
       "      <td>0.0</td>\n",
       "      <td>1.0</td>\n",
       "      <td>76035</td>\n",
       "    </tr>\n",
       "    <tr>\n",
       "      <th>Health &amp; Personal Care</th>\n",
       "      <td>0.0</td>\n",
       "      <td>1.0</td>\n",
       "      <td>3180</td>\n",
       "    </tr>\n",
       "    <tr>\n",
       "      <th>Home Audio &amp; Theater</th>\n",
       "      <td>1.0</td>\n",
       "      <td>1.0</td>\n",
       "      <td>1</td>\n",
       "    </tr>\n",
       "    <tr>\n",
       "      <th>Industrial &amp; Scientific</th>\n",
       "      <td>0.0</td>\n",
       "      <td>1.0</td>\n",
       "      <td>308</td>\n",
       "    </tr>\n",
       "    <tr>\n",
       "      <th>Movies &amp; TV</th>\n",
       "      <td>1.0</td>\n",
       "      <td>1.0</td>\n",
       "      <td>1</td>\n",
       "    </tr>\n",
       "    <tr>\n",
       "      <th>Office Products</th>\n",
       "      <td>0.0</td>\n",
       "      <td>1.0</td>\n",
       "      <td>260</td>\n",
       "    </tr>\n",
       "    <tr>\n",
       "      <th>Pet Supplies</th>\n",
       "      <td>0.0</td>\n",
       "      <td>1.0</td>\n",
       "      <td>28</td>\n",
       "    </tr>\n",
       "    <tr>\n",
       "      <th>Software</th>\n",
       "      <td>1.0</td>\n",
       "      <td>1.0</td>\n",
       "      <td>1</td>\n",
       "    </tr>\n",
       "    <tr>\n",
       "      <th>Sports &amp; Outdoors</th>\n",
       "      <td>0.0</td>\n",
       "      <td>1.0</td>\n",
       "      <td>182</td>\n",
       "    </tr>\n",
       "    <tr>\n",
       "      <th>Tools &amp; Home Improvement</th>\n",
       "      <td>0.0</td>\n",
       "      <td>1.0</td>\n",
       "      <td>17</td>\n",
       "    </tr>\n",
       "    <tr>\n",
       "      <th>Toys &amp; Games</th>\n",
       "      <td>0.0</td>\n",
       "      <td>1.0</td>\n",
       "      <td>330</td>\n",
       "    </tr>\n",
       "  </tbody>\n",
       "</table>\n",
       "</div>\n",
       "    <div class=\"colab-df-buttons\">\n",
       "      \n",
       "  <div class=\"colab-df-container\">\n",
       "    <button class=\"colab-df-convert\" onclick=\"convertToInteractive('df-eee453d5-ab8a-4324-8d9f-173481faa9d5')\"\n",
       "            title=\"Convert this dataframe to an interactive table.\"\n",
       "            style=\"display:none;\">\n",
       "      \n",
       "  <svg xmlns=\"http://www.w3.org/2000/svg\" height=\"24px\" viewBox=\"0 -960 960 960\">\n",
       "    <path d=\"M120-120v-720h720v720H120Zm60-500h600v-160H180v160Zm220 220h160v-160H400v160Zm0 220h160v-160H400v160ZM180-400h160v-160H180v160Zm440 0h160v-160H620v160ZM180-180h160v-160H180v160Zm440 0h160v-160H620v160Z\"/>\n",
       "  </svg>\n",
       "    </button>\n",
       "    \n",
       "  <style>\n",
       "    .colab-df-container {\n",
       "      display:flex;\n",
       "      gap: 12px;\n",
       "    }\n",
       "\n",
       "    .colab-df-convert {\n",
       "      background-color: #E8F0FE;\n",
       "      border: none;\n",
       "      border-radius: 50%;\n",
       "      cursor: pointer;\n",
       "      display: none;\n",
       "      fill: #1967D2;\n",
       "      height: 32px;\n",
       "      padding: 0 0 0 0;\n",
       "      width: 32px;\n",
       "    }\n",
       "\n",
       "    .colab-df-convert:hover {\n",
       "      background-color: #E2EBFA;\n",
       "      box-shadow: 0px 1px 2px rgba(60, 64, 67, 0.3), 0px 1px 3px 1px rgba(60, 64, 67, 0.15);\n",
       "      fill: #174EA6;\n",
       "    }\n",
       "\n",
       "    .colab-df-buttons div {\n",
       "      margin-bottom: 4px;\n",
       "    }\n",
       "\n",
       "    [theme=dark] .colab-df-convert {\n",
       "      background-color: #3B4455;\n",
       "      fill: #D2E3FC;\n",
       "    }\n",
       "\n",
       "    [theme=dark] .colab-df-convert:hover {\n",
       "      background-color: #434B5C;\n",
       "      box-shadow: 0px 1px 3px 1px rgba(0, 0, 0, 0.15);\n",
       "      filter: drop-shadow(0px 1px 2px rgba(0, 0, 0, 0.3));\n",
       "      fill: #FFFFFF;\n",
       "    }\n",
       "  </style>\n",
       "\n",
       "    <script>\n",
       "      const buttonEl =\n",
       "        document.querySelector('#df-eee453d5-ab8a-4324-8d9f-173481faa9d5 button.colab-df-convert');\n",
       "      buttonEl.style.display =\n",
       "        google.colab.kernel.accessAllowed ? 'block' : 'none';\n",
       "\n",
       "      async function convertToInteractive(key) {\n",
       "        const element = document.querySelector('#df-eee453d5-ab8a-4324-8d9f-173481faa9d5');\n",
       "        const dataTable =\n",
       "          await google.colab.kernel.invokeFunction('convertToInteractive',\n",
       "                                                    [key], {});\n",
       "        if (!dataTable) return;\n",
       "\n",
       "        const docLinkHtml = 'Like what you see? Visit the ' +\n",
       "          '<a target=\"_blank\" href=https://colab.research.google.com/notebooks/data_table.ipynb>data table notebook</a>'\n",
       "          + ' to learn more about interactive tables.';\n",
       "        element.innerHTML = '';\n",
       "        dataTable['output_type'] = 'display_data';\n",
       "        await google.colab.output.renderOutput(dataTable, element);\n",
       "        const docLink = document.createElement('div');\n",
       "        docLink.innerHTML = docLinkHtml;\n",
       "        element.appendChild(docLink);\n",
       "      }\n",
       "    </script>\n",
       "  </div>\n",
       "  \n",
       "    </div>\n",
       "  </div>\n",
       "  "
      ],
      "text/plain": [
       "                           min  max  count\n",
       "main_cat                                  \n",
       "All Beauty                 0.0  1.0    345\n",
       "All Electronics            1.0  1.0      7\n",
       "Amazon Home                0.0  1.0   2486\n",
       "Arts, Crafts & Sewing      1.0  1.0     47\n",
       "Automotive                 1.0  1.0      2\n",
       "Baby                       1.0  1.0     41\n",
       "Camera & Photo             1.0  1.0      2\n",
       "Car Electronics            1.0  1.0      1\n",
       "Cell Phones & Accessories  0.0  1.0     17\n",
       "Computers                  1.0  1.0      3\n",
       "Grocery                    0.0  1.0  76035\n",
       "Health & Personal Care     0.0  1.0   3180\n",
       "Home Audio & Theater       1.0  1.0      1\n",
       "Industrial & Scientific    0.0  1.0    308\n",
       "Movies & TV                1.0  1.0      1\n",
       "Office Products            0.0  1.0    260\n",
       "Pet Supplies               0.0  1.0     28\n",
       "Software                   1.0  1.0      1\n",
       "Sports & Outdoors          0.0  1.0    182\n",
       "Tools & Home Improvement   0.0  1.0     17\n",
       "Toys & Games               0.0  1.0    330"
      ]
     },
     "execution_count": 29,
     "metadata": {},
     "output_type": "execute_result"
    }
   ],
   "source": [
    "df.groupby('main_cat')['norm_rank'].aggregate(['min','max','count'])"
   ]
  },
  {
   "cell_type": "markdown",
   "id": "f7277783-8a85-4ff2-b5f6-e8f509088284",
   "metadata": {
    "id": "f7277783-8a85-4ff2-b5f6-e8f509088284"
   },
   "source": [
    "# 3. Building the model"
   ]
  },
  {
   "cell_type": "markdown",
   "id": "aa69f523-0c63-4d6b-9c9f-526e90ab3df1",
   "metadata": {
    "id": "aa69f523-0c63-4d6b-9c9f-526e90ab3df1"
   },
   "source": [
    "## 3.1 Weighing up options"
   ]
  },
  {
   "cell_type": "markdown",
   "id": "14af0a96-cbb2-46b2-93fe-ca109b90f9f2",
   "metadata": {
    "id": "14af0a96-cbb2-46b2-93fe-ca109b90f9f2"
   },
   "source": [
    "### 3.1.1 Itemset mining (initial thoughts)"
   ]
  },
  {
   "cell_type": "markdown",
   "id": "eb0754d1-2266-4481-8798-924d6b6b359c",
   "metadata": {
    "id": "eb0754d1-2266-4481-8798-924d6b6b359c"
   },
   "source": [
    "- Looking at the \"also_buy\" feature instances at first, each of which had a sequence with list of products made me think of Itemset mining"
   ]
  },
  {
   "cell_type": "markdown",
   "id": "be01d86a-efd1-4d13-8439-1e463481c1c8",
   "metadata": {
    "id": "be01d86a-efd1-4d13-8439-1e463481c1c8"
   },
   "source": [
    "- The apriori algorithm came to mind, after a brief review on Python's libraries implementing this model, Apyori seemed to be the right choice"
   ]
  },
  {
   "cell_type": "markdown",
   "id": "dfd9d93b-cf71-48e5-92b1-968ad4fdf69d",
   "metadata": {
    "id": "dfd9d93b-cf71-48e5-92b1-968ad4fdf69d"
   },
   "source": [
    "- At this point, I was certain on my conjecture of having rank to be of influence while building the model, so I decided to weigh-up other options"
   ]
  },
  {
   "cell_type": "markdown",
   "id": "e50e1ae6-dbf2-46cb-8066-335338a56dba",
   "metadata": {
    "id": "e50e1ae6-dbf2-46cb-8066-335338a56dba"
   },
   "source": [
    "### 3.1.2 Item-item collaboarative filtering"
   ]
  },
  {
   "cell_type": "markdown",
   "id": "693a2d98-5999-45cf-a9a6-3c0701e72e6e",
   "metadata": {
    "id": "693a2d98-5999-45cf-a9a6-3c0701e72e6e"
   },
   "source": [
    "- I've studied collaborative filtering briefly, to have a item-item matrix with the matrix-values being the normalized-ranks of the products was my next thought, which I decided to pursue"
   ]
  },
  {
   "cell_type": "markdown",
   "id": "7833a386-3b5a-4363-bad1-03995f7aa3da",
   "metadata": {
    "id": "7833a386-3b5a-4363-bad1-03995f7aa3da"
   },
   "source": [
    "- I would need a m x n matrix with the rows representing each of the \"asin\" values and the columns representing all the products purchased which is the exhaustive list of unique \"asin\" values of the products in all instances of \"also_buy\""
   ]
  },
  {
   "cell_type": "code",
   "execution_count": 30,
   "id": "47bfb8f4-90b0-405c-be51-77954e7f1246",
   "metadata": {
    "colab": {
     "base_uri": "https://localhost:8080/"
    },
    "executionInfo": {
     "elapsed": 1217,
     "status": "ok",
     "timestamp": 1695093226678,
     "user": {
      "displayName": "",
      "userId": ""
     },
     "user_tz": 300
    },
    "id": "47bfb8f4-90b0-405c-be51-77954e7f1246",
    "outputId": "9e1aa6f3-3287-4e4e-c727-7a3b074a9c1f"
   },
   "outputs": [
    {
     "data": {
      "text/plain": [
       "293034"
      ]
     },
     "execution_count": 30,
     "metadata": {},
     "output_type": "execute_result"
    }
   ],
   "source": [
    "ab_list = df[\"also_buy\"].tolist()\n",
    "ab_set = set()\n",
    "for i in ab_list:\n",
    "    for j in i:\n",
    "        ab_set.add(j)\n",
    "len(ab_set)"
   ]
  },
  {
   "cell_type": "markdown",
   "id": "698dcddc-6714-40f0-9fbf-a80c4357c23f",
   "metadata": {
    "id": "698dcddc-6714-40f0-9fbf-a80c4357c23f"
   },
   "source": [
    "- The dataset does not seem to have the information of all the products present in the dataframe, which wouldn't change my perspective of building the matrix but certainly is a pitfall when displaying the output which I conceptualized to be consisting of details of the recommended products"
   ]
  },
  {
   "cell_type": "code",
   "execution_count": 31,
   "id": "NdvURQCJgKE_",
   "metadata": {
    "colab": {
     "base_uri": "https://localhost:8080/"
    },
    "executionInfo": {
     "elapsed": 280,
     "status": "ok",
     "timestamp": 1695093228697,
     "user": {
      "displayName": "",
      "userId": ""
     },
     "user_tz": 300
    },
    "id": "NdvURQCJgKE_",
    "outputId": "c92ff217-bac8-445a-abcb-8496e249ebf9"
   },
   "outputs": [
    {
     "data": {
      "text/plain": [
       "83294"
      ]
     },
     "execution_count": 31,
     "metadata": {},
     "output_type": "execute_result"
    }
   ],
   "source": [
    "selected_transactions = df[\"also_buy\"]\n",
    "len(selected_transactions)"
   ]
  },
  {
   "cell_type": "markdown",
   "id": "7c4c5684-f912-492e-b80b-77f2f4b4ca3d",
   "metadata": {
    "id": "7c4c5684-f912-492e-b80b-77f2f4b4ca3d"
   },
   "source": [
    "- At this point, I tried constructing a dataframe but it was computationally expensive to have a dataframe so I opted for a numpy array which would eliminate the need for having columns but then to numerically index them, there needs to be a mapping for column names (asins from also_buy) to indices"
   ]
  },
  {
   "cell_type": "code",
   "execution_count": 32,
   "id": "gk5q5Ed4gKHb",
   "metadata": {
    "executionInfo": {
     "elapsed": 1052,
     "status": "ok",
     "timestamp": 1695093231092,
     "user": {
      "displayName": "",
      "userId": ""
     },
     "user_tz": 300
    },
    "id": "gk5q5Ed4gKHb"
   },
   "outputs": [],
   "source": [
    "asin_to_index = {asin: idx for idx, asin in enumerate(set(item for sublist in selected_transactions for item in sublist))}\n"
   ]
  },
  {
   "cell_type": "code",
   "execution_count": 33,
   "id": "e8OCXBb2TJo3",
   "metadata": {
    "colab": {
     "base_uri": "https://localhost:8080/"
    },
    "executionInfo": {
     "elapsed": 4,
     "status": "ok",
     "timestamp": 1695093231925,
     "user": {
      "displayName": "",
      "userId": ""
     },
     "user_tz": 300
    },
    "id": "e8OCXBb2TJo3",
    "outputId": "c228fde5-dc40-436e-f845-980eda8dcb97"
   },
   "outputs": [
    {
     "data": {
      "text/plain": [
       "293034"
      ]
     },
     "execution_count": 33,
     "metadata": {},
     "output_type": "execute_result"
    }
   ],
   "source": [
    "len(asin_to_index)"
   ]
  },
  {
   "cell_type": "markdown",
   "id": "20cacd24-6df0-44d9-b438-83da75e04c78",
   "metadata": {
    "id": "20cacd24-6df0-44d9-b438-83da75e04c78"
   },
   "source": [
    "## 3.2 Tailoring the dataframe for modeling"
   ]
  },
  {
   "cell_type": "markdown",
   "id": "0a044ed0-9e44-4fb4-b498-58d3f803c636",
   "metadata": {
    "id": "0a044ed0-9e44-4fb4-b498-58d3f803c636"
   },
   "source": [
    "## 3.2.1 Constructing a sparse matrix"
   ]
  },
  {
   "cell_type": "markdown",
   "id": "v9_ySOCrG5tt",
   "metadata": {
    "id": "v9_ySOCrG5tt"
   },
   "source": [
    "- Here, I decided to use the Alternating Least Squares recommender from the implicit module.\n",
    "- This takes a sparse matrix with userxitem dimension with matrix values being confidence level of the item that was bought, which here, I conceptualized to be the normalized rank of the product\n",
    "- However, this was too computationally expensive and my Google Cloud Colab notebook always crashed (free tier, so couldn't upscale), I tried working on how I could limit computation, but couldn't think of an approach in time.\n",
    "\n",
    "- I had done the following, before abandoning at the last step\n",
    "1. Constructed a square matrix and that made me remove the missing asin values from also_buy that did not corresponded with the instances in the dataset.\n",
    "2. Assigned the normalized rank to each transaction's list of products\n",
    "3. Ran the matrix through the ALS model which returned NA values for recomendations, after debugging I found that the values in \"data\" from the following section's commented code couldn't get any values and crashed mid-execution\n"
   ]
  },
  {
   "cell_type": "markdown",
   "id": "h4407Cr_KWvb",
   "metadata": {
    "id": "h4407Cr_KWvb"
   },
   "source": [
    "- So instead, I decided to use Singular Value Decomposition for dimensionality reduction of the matrix and checking for maximum values for top recommendations"
   ]
  },
  {
   "cell_type": "code",
   "execution_count": 34,
   "id": "6cLYJ2uLF-dA",
   "metadata": {
    "executionInfo": {
     "elapsed": 2667,
     "status": "ok",
     "timestamp": 1695093237445,
     "user": {
      "displayName": "",
      "userId": ""
     },
     "user_tz": 300
    },
    "id": "6cLYJ2uLF-dA"
   },
   "outputs": [],
   "source": [
    "# rows = []\n",
    "# cols = []\n",
    "# data = []\n",
    "# for user_idx, transaction in enumerate(selected_transactions):\n",
    "#     for product in transaction:\n",
    "#           if product in df[\"asin\"]:\n",
    "#                 rows.append(user_idx)\n",
    "#                 cols.append(asin_to_index[product])\n",
    "#                 data.append(df.query(\"asin == @product\")[\"norm_rank\"])\n",
    "\n",
    "rows = []\n",
    "cols = []\n",
    "data = []\n",
    "for user_idx, transaction in enumerate(selected_transactions):\n",
    "    for product in transaction:\n",
    "          rows.append(user_idx)\n",
    "          cols.append(asin_to_index[product])\n",
    "          data.append(1)"
   ]
  },
  {
   "cell_type": "code",
   "execution_count": 35,
   "id": "mD9XCdqWF-yw",
   "metadata": {
    "executionInfo": {
     "elapsed": 277,
     "status": "ok",
     "timestamp": 1695093239155,
     "user": {
      "displayName": "",
      "userId": ""
     },
     "user_tz": 300
    },
    "id": "mD9XCdqWF-yw"
   },
   "outputs": [],
   "source": [
    "import numpy as np\n",
    "\n",
    "dense_matrix = np.zeros((len(selected_transactions), len(asin_to_index)))"
   ]
  },
  {
   "cell_type": "code",
   "execution_count": 36,
   "id": "LSUivc6IF-1k",
   "metadata": {
    "executionInfo": {
     "elapsed": 10402,
     "status": "ok",
     "timestamp": 1695093250537,
     "user": {
      "displayName": "",
      "userId": ""
     },
     "user_tz": 300
    },
    "id": "LSUivc6IF-1k"
   },
   "outputs": [],
   "source": [
    "for i, j, value in zip(rows, cols, data):\n",
    "    dense_matrix[i, j] = value"
   ]
  },
  {
   "cell_type": "code",
   "execution_count": 37,
   "id": "E5FtUZlGF-61",
   "metadata": {
    "colab": {
     "base_uri": "https://localhost:8080/"
    },
    "executionInfo": {
     "elapsed": 246951,
     "status": "ok",
     "timestamp": 1695093530294,
     "user": {
      "displayName": "",
      "userId": ""
     },
     "user_tz": 300
    },
    "id": "E5FtUZlGF-61",
    "outputId": "fbbb6bb1-215b-4a2e-f198-823d74b07219"
   },
   "outputs": [
    {
     "data": {
      "text/plain": [
       "(83294, 293034)"
      ]
     },
     "execution_count": 37,
     "metadata": {},
     "output_type": "execute_result"
    }
   ],
   "source": [
    "from scipy.sparse import csr_matrix\n",
    "sparse_matrix = csr_matrix(dense_matrix)\n",
    "\n",
    "sparse_matrix.shape"
   ]
  },
  {
   "cell_type": "markdown",
   "id": "daa36d74-3f5b-49f4-a9b4-adef3d5fd7d1",
   "metadata": {
    "id": "daa36d74-3f5b-49f4-a9b4-adef3d5fd7d1"
   },
   "source": [
    "### 3.2.2 - Truncated SVD"
   ]
  },
  {
   "cell_type": "markdown",
   "id": "wJ-8a4L3R1Hm",
   "metadata": {
    "id": "wJ-8a4L3R1Hm"
   },
   "source": [
    "[Visual representation of the Matrix factorization approach used by SVD](https://developers.google.com/machine-learning/recommendation/images/Matrixfactor.svg)"
   ]
  },
  {
   "cell_type": "code",
   "execution_count": 38,
   "id": "WYWaBf8fcJeu",
   "metadata": {
    "colab": {
     "base_uri": "https://localhost:8080/"
    },
    "executionInfo": {
     "elapsed": 36866,
     "status": "ok",
     "timestamp": 1695093573919,
     "user": {
      "displayName": "",
      "userId": ""
     },
     "user_tz": 300
    },
    "id": "WYWaBf8fcJeu",
    "outputId": "73dd1830-fdf9-4dfb-ffa7-7b85c281b3a7"
   },
   "outputs": [
    {
     "data": {
      "text/plain": [
       "((83294, 100), (100, 293034))"
      ]
     },
     "execution_count": 38,
     "metadata": {},
     "output_type": "execute_result"
    }
   ],
   "source": [
    "# % pip install implicit\n",
    "# from implicit.als import AlternatingLeastSquares\n",
    "\n",
    "# model = AlternatingLeastSquares(factors=128, regularization=0.10, alpha=2.0)\n",
    "# model.fit(sparse_matrix)\n",
    "# asin_id_als = \"\"\n",
    "# ids, scores = model.recommend(asin_id_als, sparse_matrix[asin_id_als], N=10, filter_already_liked_items=False)\n",
    "\n",
    "\n",
    "from sklearn.decomposition import TruncatedSVD\n",
    "\n",
    "# Apply TruncatedSVD for matrix factorization\n",
    "n_components = 100  # Number of latent factors\n",
    "svd_model = TruncatedSVD(n_components=n_components, random_state=73)\n",
    "user_matrix = svd_model.fit_transform(sparse_matrix)\n",
    "item_matrix = svd_model.components_\n",
    "\n",
    "user_matrix.shape, item_matrix.shape\n"
   ]
  },
  {
   "cell_type": "markdown",
   "id": "_CnnfDjlPB8X",
   "metadata": {
    "id": "_CnnfDjlPB8X"
   },
   "source": [
    "- Here I tried a bunch of latent factor values and decided on '100' based on the recommendatios I was getting by mapping the product in general, by seeing if they made sense\n",
    "\n",
    "- I would prefer an actual statistical evaluation metric like AUC(area under the curve) and I have stated my findings/limitations in the future scope section"
   ]
  },
  {
   "cell_type": "markdown",
   "id": "791e1bb6-2849-4572-9422-49b193c588f1",
   "metadata": {
    "id": "791e1bb6-2849-4572-9422-49b193c588f1"
   },
   "source": [
    "# 4. Evaluating the model's results"
   ]
  },
  {
   "cell_type": "code",
   "execution_count": 39,
   "id": "O7HJxmQacu5I",
   "metadata": {
    "executionInfo": {
     "elapsed": 139,
     "status": "ok",
     "timestamp": 1695093583135,
     "user": {
      "displayName": "",
      "userId": ""
     },
     "user_tz": 300
    },
    "id": "O7HJxmQacu5I"
   },
   "outputs": [],
   "source": [
    "def get_svd_top_n_recommendations(item_idx, user_matrix, item_matrix, n=10):\n",
    "    \"\"\"\n",
    "    Get top N recommended products for a given product based on its latent factors using TruncatedSVD results.\n",
    "\n",
    "    Parameters:\n",
    "        - item_idx: Index of the item for which recommendations are required.\n",
    "        - user_matrix: Latent factors of users.\n",
    "        - item_matrix: Latent factors of items.\n",
    "        - n: Number of top recommended products.\n",
    "\n",
    "    Returns:\n",
    "        - List of top N recommended product indices.\n",
    "    \"\"\"\n",
    "    scores = user_matrix @ item_matrix[:, item_idx] #Scores of each item corresponding to the passed asin\n",
    "    top_n_items = scores.argsort()[::-1][:n+1]  # +1 to exclude the item itself\n",
    "    recommended_items = [item for item in top_n_items if item != item_idx][:n]\n",
    "    return recommended_items\n",
    "\n"
   ]
  },
  {
   "cell_type": "code",
   "execution_count": 40,
   "id": "TzObps4ycJzl",
   "metadata": {
    "colab": {
     "base_uri": "https://localhost:8080/"
    },
    "executionInfo": {
     "elapsed": 498,
     "status": "ok",
     "timestamp": 1695093585163,
     "user": {
      "displayName": "",
      "userId": ""
     },
     "user_tz": 300
    },
    "id": "TzObps4ycJzl",
    "outputId": "40b87452-49f5-4a2a-b073-c69093eae89a"
   },
   "outputs": [
    {
     "data": {
      "text/plain": [
       "['B00O6801CE',\n",
       " 'B00NN4541U',\n",
       " 'B00018H5VS',\n",
       " 'B013ZTYLOS',\n",
       " 'B00O7QZAZ8',\n",
       " 'B01AVBIWRK',\n",
       " 'B00E0QAS34',\n",
       " 'B00U865L00',\n",
       " 'B00RBABVRS',\n",
       " 'B008OS5Z6E']"
      ]
     },
     "execution_count": 40,
     "metadata": {},
     "output_type": "execute_result"
    }
   ],
   "source": [
    "asin_svd = \"B00CREXSHY\" #Input product asin here\n",
    "\n",
    "if asin_svd in asin_to_index:\n",
    "    item_idx_svd = asin_to_index[asin_svd]\n",
    "    recommended_item_indices_svd = get_svd_top_n_recommendations(item_idx_svd, user_matrix, item_matrix)\n",
    "    recommended_asins_for_svd = [list(asin_to_index.keys())[list(asin_to_index.values()).index(idx)] for idx in recommended_item_indices_svd]\n",
    "else:\n",
    "    recommended_asins_for_svd = []\n",
    "\n",
    "recommended_asins_for_svd"
   ]
  },
  {
   "cell_type": "code",
   "execution_count": 41,
   "id": "vQzITMQ4dRGE",
   "metadata": {
    "executionInfo": {
     "elapsed": 153,
     "status": "ok",
     "timestamp": 1695093587832,
     "user": {
      "displayName": "",
      "userId": ""
     },
     "user_tz": 300
    },
    "id": "vQzITMQ4dRGE"
   },
   "outputs": [],
   "source": [
    "titles = []\n",
    "\n",
    "for i in recommended_asins_for_svd:\n",
    "  try:\n",
    "    titles.append(df.query(\"asin == @i\")['title'])\n",
    "  except Error:\n",
    "    titles.append(\"Title not found\")"
   ]
  },
  {
   "cell_type": "code",
   "execution_count": 42,
   "id": "U3s6kpu6F-9y",
   "metadata": {
    "colab": {
     "base_uri": "https://localhost:8080/"
    },
    "executionInfo": {
     "elapsed": 227,
     "status": "ok",
     "timestamp": 1695093589500,
     "user": {
      "displayName": "",
      "userId": ""
     },
     "user_tz": 300
    },
    "id": "U3s6kpu6F-9y",
    "outputId": "b3d778e0-1b1d-41b2-958e-5008c9708ce9",
    "scrolled": true
   },
   "outputs": [
    {
     "data": {
      "text/plain": [
       "[Series([], Name: title, dtype: object),\n",
       " Series([], Name: title, dtype: object),\n",
       " 512     Koeze's Colossal Cashews - 30 oz. Decanter\n",
       " 1536    Koeze's Colossal Cashews - 30 oz. Decanter\n",
       " Name: title, dtype: object,\n",
       " Series([], Name: title, dtype: object),\n",
       " Series([], Name: title, dtype: object),\n",
       " Series([], Name: title, dtype: object),\n",
       " Series([], Name: title, dtype: object),\n",
       " Series([], Name: title, dtype: object),\n",
       " Series([], Name: title, dtype: object),\n",
       " 29673    Hello Kitty Sours, Pack of 3\n",
       " Name: title, dtype: object]"
      ]
     },
     "execution_count": 42,
     "metadata": {},
     "output_type": "execute_result"
    }
   ],
   "source": [
    "titles\n",
    "\n",
    "#There are products that have missing titles because the dataset doesn't have the exhaustive list of all asin instances found in \"also_buy\""
   ]
  },
  {
   "cell_type": "code",
   "execution_count": 43,
   "id": "7ab764b6-bdc6-43bd-8011-8accf7e0b8ca",
   "metadata": {
    "colab": {
     "base_uri": "https://localhost:8080/",
     "height": 73
    },
    "executionInfo": {
     "elapsed": 338,
     "status": "ok",
     "timestamp": 1695093591903,
     "user": {
      "displayName": "",
      "userId": ""
     },
     "user_tz": 300
    },
    "id": "7ab764b6-bdc6-43bd-8011-8accf7e0b8ca",
    "outputId": "79b07d02-592e-43f0-e46d-9640cb82188a"
   },
   "outputs": [
    {
     "data": {
      "text/html": [
       "\n",
       "  <div id=\"df-a9137cad-d45e-4dfd-ab87-ba584650a99b\" class=\"colab-df-container\">\n",
       "    <div>\n",
       "<style scoped>\n",
       "    .dataframe tbody tr th:only-of-type {\n",
       "        vertical-align: middle;\n",
       "    }\n",
       "\n",
       "    .dataframe tbody tr th {\n",
       "        vertical-align: top;\n",
       "    }\n",
       "\n",
       "    .dataframe thead th {\n",
       "        text-align: right;\n",
       "    }\n",
       "</style>\n",
       "<table border=\"1\" class=\"dataframe\">\n",
       "  <thead>\n",
       "    <tr style=\"text-align: right;\">\n",
       "      <th></th>\n",
       "      <th>category</th>\n",
       "      <th>description</th>\n",
       "      <th>title</th>\n",
       "      <th>also_buy</th>\n",
       "      <th>brand</th>\n",
       "      <th>rank</th>\n",
       "      <th>main_cat</th>\n",
       "      <th>date</th>\n",
       "      <th>price</th>\n",
       "      <th>asin</th>\n",
       "      <th>imageURL</th>\n",
       "      <th>rank_len</th>\n",
       "      <th>main_cat_size</th>\n",
       "      <th>rank_num</th>\n",
       "      <th>rank_cat</th>\n",
       "      <th>rank_size</th>\n",
       "      <th>norm_rank</th>\n",
       "    </tr>\n",
       "  </thead>\n",
       "  <tbody>\n",
       "  </tbody>\n",
       "</table>\n",
       "</div>\n",
       "    <div class=\"colab-df-buttons\">\n",
       "      \n",
       "  <div class=\"colab-df-container\">\n",
       "    <button class=\"colab-df-convert\" onclick=\"convertToInteractive('df-a9137cad-d45e-4dfd-ab87-ba584650a99b')\"\n",
       "            title=\"Convert this dataframe to an interactive table.\"\n",
       "            style=\"display:none;\">\n",
       "      \n",
       "  <svg xmlns=\"http://www.w3.org/2000/svg\" height=\"24px\" viewBox=\"0 -960 960 960\">\n",
       "    <path d=\"M120-120v-720h720v720H120Zm60-500h600v-160H180v160Zm220 220h160v-160H400v160Zm0 220h160v-160H400v160ZM180-400h160v-160H180v160Zm440 0h160v-160H620v160ZM180-180h160v-160H180v160Zm440 0h160v-160H620v160Z\"/>\n",
       "  </svg>\n",
       "    </button>\n",
       "    \n",
       "  <style>\n",
       "    .colab-df-container {\n",
       "      display:flex;\n",
       "      gap: 12px;\n",
       "    }\n",
       "\n",
       "    .colab-df-convert {\n",
       "      background-color: #E8F0FE;\n",
       "      border: none;\n",
       "      border-radius: 50%;\n",
       "      cursor: pointer;\n",
       "      display: none;\n",
       "      fill: #1967D2;\n",
       "      height: 32px;\n",
       "      padding: 0 0 0 0;\n",
       "      width: 32px;\n",
       "    }\n",
       "\n",
       "    .colab-df-convert:hover {\n",
       "      background-color: #E2EBFA;\n",
       "      box-shadow: 0px 1px 2px rgba(60, 64, 67, 0.3), 0px 1px 3px 1px rgba(60, 64, 67, 0.15);\n",
       "      fill: #174EA6;\n",
       "    }\n",
       "\n",
       "    .colab-df-buttons div {\n",
       "      margin-bottom: 4px;\n",
       "    }\n",
       "\n",
       "    [theme=dark] .colab-df-convert {\n",
       "      background-color: #3B4455;\n",
       "      fill: #D2E3FC;\n",
       "    }\n",
       "\n",
       "    [theme=dark] .colab-df-convert:hover {\n",
       "      background-color: #434B5C;\n",
       "      box-shadow: 0px 1px 3px 1px rgba(0, 0, 0, 0.15);\n",
       "      filter: drop-shadow(0px 1px 2px rgba(0, 0, 0, 0.3));\n",
       "      fill: #FFFFFF;\n",
       "    }\n",
       "  </style>\n",
       "\n",
       "    <script>\n",
       "      const buttonEl =\n",
       "        document.querySelector('#df-a9137cad-d45e-4dfd-ab87-ba584650a99b button.colab-df-convert');\n",
       "      buttonEl.style.display =\n",
       "        google.colab.kernel.accessAllowed ? 'block' : 'none';\n",
       "\n",
       "      async function convertToInteractive(key) {\n",
       "        const element = document.querySelector('#df-a9137cad-d45e-4dfd-ab87-ba584650a99b');\n",
       "        const dataTable =\n",
       "          await google.colab.kernel.invokeFunction('convertToInteractive',\n",
       "                                                    [key], {});\n",
       "        if (!dataTable) return;\n",
       "\n",
       "        const docLinkHtml = 'Like what you see? Visit the ' +\n",
       "          '<a target=\"_blank\" href=https://colab.research.google.com/notebooks/data_table.ipynb>data table notebook</a>'\n",
       "          + ' to learn more about interactive tables.';\n",
       "        element.innerHTML = '';\n",
       "        dataTable['output_type'] = 'display_data';\n",
       "        await google.colab.output.renderOutput(dataTable, element);\n",
       "        const docLink = document.createElement('div');\n",
       "        docLink.innerHTML = docLinkHtml;\n",
       "        element.appendChild(docLink);\n",
       "      }\n",
       "    </script>\n",
       "  </div>\n",
       "  \n",
       "    </div>\n",
       "  </div>\n",
       "  "
      ],
      "text/plain": [
       "Empty DataFrame\n",
       "Columns: [category, description, title, also_buy, brand, rank, main_cat, date, price, asin, imageURL, rank_len, main_cat_size, rank_num, rank_cat, rank_size, norm_rank]\n",
       "Index: []"
      ]
     },
     "execution_count": 43,
     "metadata": {},
     "output_type": "execute_result"
    }
   ],
   "source": [
    "df.query(\"asin == @asin_svd\")\n"
   ]
  },
  {
   "cell_type": "markdown",
   "id": "75734f6a-8008-459a-9981-4629ded57253",
   "metadata": {
    "id": "75734f6a-8008-459a-9981-4629ded57253"
   },
   "source": [
    "# 5. Future scope"
   ]
  },
  {
   "cell_type": "markdown",
   "id": "JsxqC77YB74o",
   "metadata": {
    "id": "JsxqC77YB74o"
   },
   "source": [
    "- If I could get through the computation bottleneck, I would debug and get the model trained with Alternating Least Squares model which takes into consideration the rating/ranking of the product while recommending\n",
    "\n",
    "- The ALS model also leverages the list of products already bought together while training the model\n",
    "\n",
    "- I could have evaluation metrics such as AUC if I have a model like ALS\n",
    "\n",
    "\n"
   ]
  },
  {
   "cell_type": "markdown",
   "id": "3db4eeef-79a2-47f3-a052-708af46877df",
   "metadata": {
    "id": "3db4eeef-79a2-47f3-a052-708af46877df"
   },
   "source": [
    "# 6. Conclusion and final thoughts"
   ]
  },
  {
   "cell_type": "markdown",
   "id": "9dz4KEQrSta5",
   "metadata": {
    "id": "9dz4KEQrSta5"
   },
   "source": [
    "- I would certainly have tried to implement a more sophisticated learning model like ALS permitting computational power and time, but I appreciate this opportunity to work on this challenging problem which I thoroughly enjoyed working on.\n",
    "\n",
    "## Thank you!"
   ]
  },
  {
   "cell_type": "code",
   "execution_count": 43,
   "id": "-I7HEazATMaN",
   "metadata": {
    "executionInfo": {
     "elapsed": 141,
     "status": "ok",
     "timestamp": 1695093594417,
     "user": {
      "displayName": "",
      "userId": ""
     },
     "user_tz": 300
    },
    "id": "-I7HEazATMaN"
   },
   "outputs": [],
   "source": []
  }
 ],
 "metadata": {
  "colab": {
   "provenance": [],
   "toc_visible": true
  },
  "kernelspec": {
   "display_name": "Python 3 (ipykernel)",
   "language": "python",
   "name": "python3"
  },
  "language_info": {
   "codemirror_mode": {
    "name": "ipython",
    "version": 3
   },
   "file_extension": ".py",
   "mimetype": "text/x-python",
   "name": "python",
   "nbconvert_exporter": "python",
   "pygments_lexer": "ipython3",
   "version": "3.10.10"
  }
 },
 "nbformat": 4,
 "nbformat_minor": 5
}
